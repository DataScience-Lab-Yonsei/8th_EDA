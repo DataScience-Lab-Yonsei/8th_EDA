{
 "cells": [
  {
   "cell_type": "code",
   "execution_count": 1,
   "id": "cdbf692d",
   "metadata": {},
   "outputs": [],
   "source": [
    "# 디렉토리 설정\n",
    "import os\n",
    "\n",
    "os.chdir('C:\\\\Users\\\\rbden\\\\OneDrive\\\\바탕 화면\\\\Univ\\\\R & Python\\\\Python\\\\Pythondata')\n",
    "\n",
    "os.getcwd()\n",
    "\n",
    "import pandas as pd\n",
    "import numpy as np\n",
    "import matplotlib.pyplot as plt\n",
    "import seaborn as sns"
   ]
  },
  {
   "cell_type": "code",
   "execution_count": 2,
   "id": "bd01ee13",
   "metadata": {},
   "outputs": [
    {
     "data": {
      "text/html": [
       "<div>\n",
       "<style scoped>\n",
       "    .dataframe tbody tr th:only-of-type {\n",
       "        vertical-align: middle;\n",
       "    }\n",
       "\n",
       "    .dataframe tbody tr th {\n",
       "        vertical-align: top;\n",
       "    }\n",
       "\n",
       "    .dataframe thead th {\n",
       "        text-align: right;\n",
       "    }\n",
       "</style>\n",
       "<table border=\"1\" class=\"dataframe\">\n",
       "  <thead>\n",
       "    <tr style=\"text-align: right;\">\n",
       "      <th></th>\n",
       "      <th>ID</th>\n",
       "      <th>Counts</th>\n",
       "      <th>gender</th>\n",
       "      <th>car</th>\n",
       "      <th>reality</th>\n",
       "      <th>child_num</th>\n",
       "      <th>income_total</th>\n",
       "      <th>income_type</th>\n",
       "      <th>edu_type</th>\n",
       "      <th>family_type</th>\n",
       "      <th>...</th>\n",
       "      <th>DAYS_EMPLOYED</th>\n",
       "      <th>work_phone</th>\n",
       "      <th>phone</th>\n",
       "      <th>email</th>\n",
       "      <th>occyp_type</th>\n",
       "      <th>family_size</th>\n",
       "      <th>income_percentile</th>\n",
       "      <th>income_quantile</th>\n",
       "      <th>credit_avg</th>\n",
       "      <th>child_num_group</th>\n",
       "    </tr>\n",
       "  </thead>\n",
       "  <tbody>\n",
       "    <tr>\n",
       "      <th>0</th>\n",
       "      <td>ID-0</td>\n",
       "      <td>5</td>\n",
       "      <td>0</td>\n",
       "      <td>0</td>\n",
       "      <td>0</td>\n",
       "      <td>0</td>\n",
       "      <td>202500.0</td>\n",
       "      <td>Commercial associate</td>\n",
       "      <td>Higher education</td>\n",
       "      <td>Married</td>\n",
       "      <td>...</td>\n",
       "      <td>4709</td>\n",
       "      <td>0</td>\n",
       "      <td>0</td>\n",
       "      <td>0</td>\n",
       "      <td>Commercial_associate_etc</td>\n",
       "      <td>2</td>\n",
       "      <td>7</td>\n",
       "      <td>3</td>\n",
       "      <td>1.600000</td>\n",
       "      <td>0</td>\n",
       "    </tr>\n",
       "    <tr>\n",
       "      <th>1</th>\n",
       "      <td>ID-1</td>\n",
       "      <td>9</td>\n",
       "      <td>0</td>\n",
       "      <td>0</td>\n",
       "      <td>1</td>\n",
       "      <td>1</td>\n",
       "      <td>247500.0</td>\n",
       "      <td>Commercial associate</td>\n",
       "      <td>Secondary / secondary special</td>\n",
       "      <td>Civil marriage</td>\n",
       "      <td>...</td>\n",
       "      <td>1540</td>\n",
       "      <td>0</td>\n",
       "      <td>0</td>\n",
       "      <td>1</td>\n",
       "      <td>Laborers</td>\n",
       "      <td>3</td>\n",
       "      <td>8</td>\n",
       "      <td>4</td>\n",
       "      <td>0.555556</td>\n",
       "      <td>1</td>\n",
       "    </tr>\n",
       "    <tr>\n",
       "      <th>2</th>\n",
       "      <td>ID-2</td>\n",
       "      <td>6</td>\n",
       "      <td>1</td>\n",
       "      <td>1</td>\n",
       "      <td>1</td>\n",
       "      <td>0</td>\n",
       "      <td>450000.0</td>\n",
       "      <td>Working</td>\n",
       "      <td>Higher education</td>\n",
       "      <td>Married</td>\n",
       "      <td>...</td>\n",
       "      <td>4434</td>\n",
       "      <td>0</td>\n",
       "      <td>1</td>\n",
       "      <td>0</td>\n",
       "      <td>Managers</td>\n",
       "      <td>2</td>\n",
       "      <td>10</td>\n",
       "      <td>4</td>\n",
       "      <td>1.833333</td>\n",
       "      <td>0</td>\n",
       "    </tr>\n",
       "    <tr>\n",
       "      <th>3</th>\n",
       "      <td>ID-3</td>\n",
       "      <td>2</td>\n",
       "      <td>0</td>\n",
       "      <td>0</td>\n",
       "      <td>1</td>\n",
       "      <td>0</td>\n",
       "      <td>202500.0</td>\n",
       "      <td>Commercial associate</td>\n",
       "      <td>Secondary / secondary special</td>\n",
       "      <td>Married</td>\n",
       "      <td>...</td>\n",
       "      <td>2092</td>\n",
       "      <td>0</td>\n",
       "      <td>1</td>\n",
       "      <td>0</td>\n",
       "      <td>Sales staff</td>\n",
       "      <td>2</td>\n",
       "      <td>7</td>\n",
       "      <td>3</td>\n",
       "      <td>1.000000</td>\n",
       "      <td>0</td>\n",
       "    </tr>\n",
       "    <tr>\n",
       "      <th>4</th>\n",
       "      <td>ID-4</td>\n",
       "      <td>1</td>\n",
       "      <td>0</td>\n",
       "      <td>1</td>\n",
       "      <td>1</td>\n",
       "      <td>0</td>\n",
       "      <td>157500.0</td>\n",
       "      <td>State servant</td>\n",
       "      <td>Higher education</td>\n",
       "      <td>Married</td>\n",
       "      <td>...</td>\n",
       "      <td>2105</td>\n",
       "      <td>0</td>\n",
       "      <td>0</td>\n",
       "      <td>0</td>\n",
       "      <td>Managers</td>\n",
       "      <td>2</td>\n",
       "      <td>5</td>\n",
       "      <td>2</td>\n",
       "      <td>2.000000</td>\n",
       "      <td>0</td>\n",
       "    </tr>\n",
       "  </tbody>\n",
       "</table>\n",
       "<p>5 rows × 22 columns</p>\n",
       "</div>"
      ],
      "text/plain": [
       "     ID  Counts  gender  car  reality  child_num  income_total  \\\n",
       "0  ID-0       5       0    0        0          0      202500.0   \n",
       "1  ID-1       9       0    0        1          1      247500.0   \n",
       "2  ID-2       6       1    1        1          0      450000.0   \n",
       "3  ID-3       2       0    0        1          0      202500.0   \n",
       "4  ID-4       1       0    1        1          0      157500.0   \n",
       "\n",
       "            income_type                       edu_type     family_type  ...  \\\n",
       "0  Commercial associate               Higher education         Married  ...   \n",
       "1  Commercial associate  Secondary / secondary special  Civil marriage  ...   \n",
       "2               Working               Higher education         Married  ...   \n",
       "3  Commercial associate  Secondary / secondary special         Married  ...   \n",
       "4         State servant               Higher education         Married  ...   \n",
       "\n",
       "  DAYS_EMPLOYED  work_phone  phone  email                occyp_type  \\\n",
       "0          4709           0      0      0  Commercial_associate_etc   \n",
       "1          1540           0      0      1                  Laborers   \n",
       "2          4434           0      1      0                  Managers   \n",
       "3          2092           0      1      0               Sales staff   \n",
       "4          2105           0      0      0                  Managers   \n",
       "\n",
       "   family_size income_percentile  income_quantile  credit_avg  child_num_group  \n",
       "0            2                 7                3    1.600000                0  \n",
       "1            3                 8                4    0.555556                1  \n",
       "2            2                10                4    1.833333                0  \n",
       "3            2                 7                3    1.000000                0  \n",
       "4            2                 5                2    2.000000                0  \n",
       "\n",
       "[5 rows x 22 columns]"
      ]
     },
     "execution_count": 2,
     "metadata": {},
     "output_type": "execute_result"
    }
   ],
   "source": [
    "df = pd.read_csv('credit_train_ver_3.csv')\n",
    "\n",
    "df.head()"
   ]
  },
  {
   "cell_type": "code",
   "execution_count": 3,
   "id": "a7fac5e7",
   "metadata": {
    "scrolled": true
   },
   "outputs": [
    {
     "data": {
      "text/html": [
       "<div>\n",
       "<style scoped>\n",
       "    .dataframe tbody tr th:only-of-type {\n",
       "        vertical-align: middle;\n",
       "    }\n",
       "\n",
       "    .dataframe tbody tr th {\n",
       "        vertical-align: top;\n",
       "    }\n",
       "\n",
       "    .dataframe thead th {\n",
       "        text-align: right;\n",
       "    }\n",
       "</style>\n",
       "<table border=\"1\" class=\"dataframe\">\n",
       "  <thead>\n",
       "    <tr style=\"text-align: right;\">\n",
       "      <th></th>\n",
       "      <th>ID</th>\n",
       "      <th>Counts</th>\n",
       "      <th>gender</th>\n",
       "      <th>car</th>\n",
       "      <th>reality</th>\n",
       "      <th>child_num</th>\n",
       "      <th>income_total</th>\n",
       "      <th>income_type</th>\n",
       "      <th>edu_type</th>\n",
       "      <th>family_type</th>\n",
       "      <th>...</th>\n",
       "      <th>START_EMPLOYED</th>\n",
       "      <th>work_phone</th>\n",
       "      <th>phone</th>\n",
       "      <th>email</th>\n",
       "      <th>occyp_type</th>\n",
       "      <th>family_size</th>\n",
       "      <th>income_percentile</th>\n",
       "      <th>income_quantile</th>\n",
       "      <th>credit_avg</th>\n",
       "      <th>child_num_group</th>\n",
       "    </tr>\n",
       "  </thead>\n",
       "  <tbody>\n",
       "    <tr>\n",
       "      <th>0</th>\n",
       "      <td>ID-0</td>\n",
       "      <td>5</td>\n",
       "      <td>0</td>\n",
       "      <td>0</td>\n",
       "      <td>0</td>\n",
       "      <td>0</td>\n",
       "      <td>202500.0</td>\n",
       "      <td>Commercial associate</td>\n",
       "      <td>Higher education</td>\n",
       "      <td>Married</td>\n",
       "      <td>...</td>\n",
       "      <td>9190</td>\n",
       "      <td>0</td>\n",
       "      <td>0</td>\n",
       "      <td>0</td>\n",
       "      <td>Commercial_associate_etc</td>\n",
       "      <td>2</td>\n",
       "      <td>7</td>\n",
       "      <td>3</td>\n",
       "      <td>1.600000</td>\n",
       "      <td>0</td>\n",
       "    </tr>\n",
       "    <tr>\n",
       "      <th>1</th>\n",
       "      <td>ID-1</td>\n",
       "      <td>9</td>\n",
       "      <td>0</td>\n",
       "      <td>0</td>\n",
       "      <td>1</td>\n",
       "      <td>1</td>\n",
       "      <td>247500.0</td>\n",
       "      <td>Commercial associate</td>\n",
       "      <td>Secondary / secondary special</td>\n",
       "      <td>Civil marriage</td>\n",
       "      <td>...</td>\n",
       "      <td>9840</td>\n",
       "      <td>0</td>\n",
       "      <td>0</td>\n",
       "      <td>1</td>\n",
       "      <td>Laborers</td>\n",
       "      <td>3</td>\n",
       "      <td>8</td>\n",
       "      <td>4</td>\n",
       "      <td>0.555556</td>\n",
       "      <td>1</td>\n",
       "    </tr>\n",
       "    <tr>\n",
       "      <th>2</th>\n",
       "      <td>ID-2</td>\n",
       "      <td>6</td>\n",
       "      <td>1</td>\n",
       "      <td>1</td>\n",
       "      <td>1</td>\n",
       "      <td>0</td>\n",
       "      <td>450000.0</td>\n",
       "      <td>Working</td>\n",
       "      <td>Higher education</td>\n",
       "      <td>Married</td>\n",
       "      <td>...</td>\n",
       "      <td>14653</td>\n",
       "      <td>0</td>\n",
       "      <td>1</td>\n",
       "      <td>0</td>\n",
       "      <td>Managers</td>\n",
       "      <td>2</td>\n",
       "      <td>10</td>\n",
       "      <td>4</td>\n",
       "      <td>1.833333</td>\n",
       "      <td>0</td>\n",
       "    </tr>\n",
       "    <tr>\n",
       "      <th>3</th>\n",
       "      <td>ID-3</td>\n",
       "      <td>2</td>\n",
       "      <td>0</td>\n",
       "      <td>0</td>\n",
       "      <td>1</td>\n",
       "      <td>0</td>\n",
       "      <td>202500.0</td>\n",
       "      <td>Commercial associate</td>\n",
       "      <td>Secondary / secondary special</td>\n",
       "      <td>Married</td>\n",
       "      <td>...</td>\n",
       "      <td>12996</td>\n",
       "      <td>0</td>\n",
       "      <td>1</td>\n",
       "      <td>0</td>\n",
       "      <td>Sales staff</td>\n",
       "      <td>2</td>\n",
       "      <td>7</td>\n",
       "      <td>3</td>\n",
       "      <td>1.000000</td>\n",
       "      <td>0</td>\n",
       "    </tr>\n",
       "    <tr>\n",
       "      <th>4</th>\n",
       "      <td>ID-4</td>\n",
       "      <td>1</td>\n",
       "      <td>0</td>\n",
       "      <td>1</td>\n",
       "      <td>1</td>\n",
       "      <td>0</td>\n",
       "      <td>157500.0</td>\n",
       "      <td>State servant</td>\n",
       "      <td>Higher education</td>\n",
       "      <td>Married</td>\n",
       "      <td>...</td>\n",
       "      <td>12932</td>\n",
       "      <td>0</td>\n",
       "      <td>0</td>\n",
       "      <td>0</td>\n",
       "      <td>Managers</td>\n",
       "      <td>2</td>\n",
       "      <td>5</td>\n",
       "      <td>2</td>\n",
       "      <td>2.000000</td>\n",
       "      <td>0</td>\n",
       "    </tr>\n",
       "    <tr>\n",
       "      <th>...</th>\n",
       "      <td>...</td>\n",
       "      <td>...</td>\n",
       "      <td>...</td>\n",
       "      <td>...</td>\n",
       "      <td>...</td>\n",
       "      <td>...</td>\n",
       "      <td>...</td>\n",
       "      <td>...</td>\n",
       "      <td>...</td>\n",
       "      <td>...</td>\n",
       "      <td>...</td>\n",
       "      <td>...</td>\n",
       "      <td>...</td>\n",
       "      <td>...</td>\n",
       "      <td>...</td>\n",
       "      <td>...</td>\n",
       "      <td>...</td>\n",
       "      <td>...</td>\n",
       "      <td>...</td>\n",
       "      <td>...</td>\n",
       "      <td>...</td>\n",
       "    </tr>\n",
       "    <tr>\n",
       "      <th>8754</th>\n",
       "      <td>ID-8754</td>\n",
       "      <td>1</td>\n",
       "      <td>0</td>\n",
       "      <td>0</td>\n",
       "      <td>0</td>\n",
       "      <td>0</td>\n",
       "      <td>225000.0</td>\n",
       "      <td>Commercial associate</td>\n",
       "      <td>Secondary / secondary special</td>\n",
       "      <td>Single / not married</td>\n",
       "      <td>...</td>\n",
       "      <td>9757</td>\n",
       "      <td>0</td>\n",
       "      <td>1</td>\n",
       "      <td>0</td>\n",
       "      <td>Laborers</td>\n",
       "      <td>1</td>\n",
       "      <td>8</td>\n",
       "      <td>3</td>\n",
       "      <td>2.000000</td>\n",
       "      <td>0</td>\n",
       "    </tr>\n",
       "    <tr>\n",
       "      <th>8755</th>\n",
       "      <td>ID-8755</td>\n",
       "      <td>1</td>\n",
       "      <td>0</td>\n",
       "      <td>0</td>\n",
       "      <td>1</td>\n",
       "      <td>1</td>\n",
       "      <td>180000.0</td>\n",
       "      <td>Working</td>\n",
       "      <td>Higher education</td>\n",
       "      <td>Separated</td>\n",
       "      <td>...</td>\n",
       "      <td>12816</td>\n",
       "      <td>0</td>\n",
       "      <td>0</td>\n",
       "      <td>0</td>\n",
       "      <td>Working_etc</td>\n",
       "      <td>2</td>\n",
       "      <td>6</td>\n",
       "      <td>3</td>\n",
       "      <td>2.000000</td>\n",
       "      <td>1</td>\n",
       "    </tr>\n",
       "    <tr>\n",
       "      <th>8756</th>\n",
       "      <td>ID-8756</td>\n",
       "      <td>1</td>\n",
       "      <td>0</td>\n",
       "      <td>1</td>\n",
       "      <td>0</td>\n",
       "      <td>0</td>\n",
       "      <td>292500.0</td>\n",
       "      <td>Working</td>\n",
       "      <td>Secondary / secondary special</td>\n",
       "      <td>Civil marriage</td>\n",
       "      <td>...</td>\n",
       "      <td>8067</td>\n",
       "      <td>0</td>\n",
       "      <td>0</td>\n",
       "      <td>0</td>\n",
       "      <td>Core staff</td>\n",
       "      <td>2</td>\n",
       "      <td>9</td>\n",
       "      <td>4</td>\n",
       "      <td>2.000000</td>\n",
       "      <td>0</td>\n",
       "    </tr>\n",
       "    <tr>\n",
       "      <th>8757</th>\n",
       "      <td>ID-8757</td>\n",
       "      <td>1</td>\n",
       "      <td>1</td>\n",
       "      <td>0</td>\n",
       "      <td>1</td>\n",
       "      <td>0</td>\n",
       "      <td>171000.0</td>\n",
       "      <td>Working</td>\n",
       "      <td>Incomplete higher</td>\n",
       "      <td>Single / not married</td>\n",
       "      <td>...</td>\n",
       "      <td>10038</td>\n",
       "      <td>0</td>\n",
       "      <td>0</td>\n",
       "      <td>0</td>\n",
       "      <td>Laborers</td>\n",
       "      <td>1</td>\n",
       "      <td>6</td>\n",
       "      <td>3</td>\n",
       "      <td>2.000000</td>\n",
       "      <td>0</td>\n",
       "    </tr>\n",
       "    <tr>\n",
       "      <th>8758</th>\n",
       "      <td>ID-8758</td>\n",
       "      <td>1</td>\n",
       "      <td>0</td>\n",
       "      <td>0</td>\n",
       "      <td>0</td>\n",
       "      <td>0</td>\n",
       "      <td>81000.0</td>\n",
       "      <td>Working</td>\n",
       "      <td>Secondary / secondary special</td>\n",
       "      <td>Civil marriage</td>\n",
       "      <td>...</td>\n",
       "      <td>18556</td>\n",
       "      <td>0</td>\n",
       "      <td>0</td>\n",
       "      <td>0</td>\n",
       "      <td>Security staff</td>\n",
       "      <td>2</td>\n",
       "      <td>1</td>\n",
       "      <td>1</td>\n",
       "      <td>2.000000</td>\n",
       "      <td>0</td>\n",
       "    </tr>\n",
       "  </tbody>\n",
       "</table>\n",
       "<p>8759 rows × 23 columns</p>\n",
       "</div>"
      ],
      "text/plain": [
       "           ID  Counts  gender  car  reality  child_num  income_total  \\\n",
       "0        ID-0       5       0    0        0          0      202500.0   \n",
       "1        ID-1       9       0    0        1          1      247500.0   \n",
       "2        ID-2       6       1    1        1          0      450000.0   \n",
       "3        ID-3       2       0    0        1          0      202500.0   \n",
       "4        ID-4       1       0    1        1          0      157500.0   \n",
       "...       ...     ...     ...  ...      ...        ...           ...   \n",
       "8754  ID-8754       1       0    0        0          0      225000.0   \n",
       "8755  ID-8755       1       0    0        1          1      180000.0   \n",
       "8756  ID-8756       1       0    1        0          0      292500.0   \n",
       "8757  ID-8757       1       1    0        1          0      171000.0   \n",
       "8758  ID-8758       1       0    0        0          0       81000.0   \n",
       "\n",
       "               income_type                       edu_type  \\\n",
       "0     Commercial associate               Higher education   \n",
       "1     Commercial associate  Secondary / secondary special   \n",
       "2                  Working               Higher education   \n",
       "3     Commercial associate  Secondary / secondary special   \n",
       "4            State servant               Higher education   \n",
       "...                    ...                            ...   \n",
       "8754  Commercial associate  Secondary / secondary special   \n",
       "8755               Working               Higher education   \n",
       "8756               Working  Secondary / secondary special   \n",
       "8757               Working              Incomplete higher   \n",
       "8758               Working  Secondary / secondary special   \n",
       "\n",
       "               family_type  ... START_EMPLOYED  work_phone  phone  email  \\\n",
       "0                  Married  ...           9190           0      0      0   \n",
       "1           Civil marriage  ...           9840           0      0      1   \n",
       "2                  Married  ...          14653           0      1      0   \n",
       "3                  Married  ...          12996           0      1      0   \n",
       "4                  Married  ...          12932           0      0      0   \n",
       "...                    ...  ...            ...         ...    ...    ...   \n",
       "8754  Single / not married  ...           9757           0      1      0   \n",
       "8755             Separated  ...          12816           0      0      0   \n",
       "8756        Civil marriage  ...           8067           0      0      0   \n",
       "8757  Single / not married  ...          10038           0      0      0   \n",
       "8758        Civil marriage  ...          18556           0      0      0   \n",
       "\n",
       "                    occyp_type  family_size  income_percentile  \\\n",
       "0     Commercial_associate_etc            2                  7   \n",
       "1                     Laborers            3                  8   \n",
       "2                     Managers            2                 10   \n",
       "3                  Sales staff            2                  7   \n",
       "4                     Managers            2                  5   \n",
       "...                        ...          ...                ...   \n",
       "8754                  Laborers            1                  8   \n",
       "8755               Working_etc            2                  6   \n",
       "8756                Core staff            2                  9   \n",
       "8757                  Laborers            1                  6   \n",
       "8758            Security staff            2                  1   \n",
       "\n",
       "     income_quantile  credit_avg  child_num_group  \n",
       "0                  3    1.600000                0  \n",
       "1                  4    0.555556                1  \n",
       "2                  4    1.833333                0  \n",
       "3                  3    1.000000                0  \n",
       "4                  2    2.000000                0  \n",
       "...              ...         ...              ...  \n",
       "8754               3    2.000000                0  \n",
       "8755               3    2.000000                1  \n",
       "8756               4    2.000000                0  \n",
       "8757               3    2.000000                0  \n",
       "8758               1    2.000000                0  \n",
       "\n",
       "[8759 rows x 23 columns]"
      ]
     },
     "execution_count": 3,
     "metadata": {},
     "output_type": "execute_result"
    }
   ],
   "source": [
    "idx = list(df.columns.values).index('DAYS_EMPLOYED')\n",
    "\n",
    "df.insert(idx + 1 , 'START_EMPLOYED' , df['DAYS_BIRTH'] - df['DAYS_EMPLOYED'])\n",
    "\n",
    "df"
   ]
  },
  {
   "cell_type": "markdown",
   "id": "5354888a",
   "metadata": {},
   "source": [
    "# 소득 분위 관련"
   ]
  },
  {
   "cell_type": "markdown",
   "id": "49a2d4be",
   "metadata": {},
   "source": [
    "## A. 특정 조건일 때, 소득 분위가 낮아도 신용도가 높을 것"
   ]
  },
  {
   "cell_type": "markdown",
   "id": "07825d75",
   "metadata": {},
   "source": [
    "### 1. 직업 관련"
   ]
  },
  {
   "cell_type": "code",
   "execution_count": 4,
   "id": "0a34f2a0",
   "metadata": {},
   "outputs": [
    {
     "name": "stdout",
     "output_type": "stream",
     "text": [
      "상위 40 % :  3147\n",
      "하위 40 % :  3809\n"
     ]
    }
   ],
   "source": [
    "high_income = df[df['income_percentile'] >= 7]\n",
    "low_income = df[df['income_percentile'] <= 4]\n",
    "\n",
    "# 10개 분위로 쪼갰는데 왜 개수가 다를까?\n",
    "print('상위 40 % : ' ,len(high_income))\n",
    "print('하위 40 % : ' ,len(low_income))"
   ]
  },
  {
   "cell_type": "code",
   "execution_count": 5,
   "id": "6a60b182",
   "metadata": {},
   "outputs": [
    {
     "data": {
      "text/html": [
       "<div>\n",
       "<style scoped>\n",
       "    .dataframe tbody tr th:only-of-type {\n",
       "        vertical-align: middle;\n",
       "    }\n",
       "\n",
       "    .dataframe tbody tr th {\n",
       "        vertical-align: top;\n",
       "    }\n",
       "\n",
       "    .dataframe thead th {\n",
       "        text-align: right;\n",
       "    }\n",
       "</style>\n",
       "<table border=\"1\" class=\"dataframe\">\n",
       "  <thead>\n",
       "    <tr style=\"text-align: right;\">\n",
       "      <th></th>\n",
       "      <th>Low_income_credit_avg</th>\n",
       "    </tr>\n",
       "    <tr>\n",
       "      <th>occyp_type</th>\n",
       "      <th></th>\n",
       "    </tr>\n",
       "  </thead>\n",
       "  <tbody>\n",
       "    <tr>\n",
       "      <th>Accountants</th>\n",
       "      <td>1.484589</td>\n",
       "    </tr>\n",
       "    <tr>\n",
       "      <th>Cleaning staff</th>\n",
       "      <td>1.550734</td>\n",
       "    </tr>\n",
       "    <tr>\n",
       "      <th>Commercial_associate_etc</th>\n",
       "      <td>1.603629</td>\n",
       "    </tr>\n",
       "    <tr>\n",
       "      <th>Cooking staff</th>\n",
       "      <td>1.553358</td>\n",
       "    </tr>\n",
       "    <tr>\n",
       "      <th>Core staff</th>\n",
       "      <td>1.537582</td>\n",
       "    </tr>\n",
       "    <tr>\n",
       "      <th>Drivers</th>\n",
       "      <td>1.461050</td>\n",
       "    </tr>\n",
       "    <tr>\n",
       "      <th>HR staff</th>\n",
       "      <td>1.794643</td>\n",
       "    </tr>\n",
       "    <tr>\n",
       "      <th>High skill tech staff</th>\n",
       "      <td>1.523418</td>\n",
       "    </tr>\n",
       "    <tr>\n",
       "      <th>IT staff</th>\n",
       "      <td>1.488095</td>\n",
       "    </tr>\n",
       "    <tr>\n",
       "      <th>Laborers</th>\n",
       "      <td>1.498162</td>\n",
       "    </tr>\n",
       "    <tr>\n",
       "      <th>Low-skill Laborers</th>\n",
       "      <td>1.600042</td>\n",
       "    </tr>\n",
       "    <tr>\n",
       "      <th>Managers</th>\n",
       "      <td>1.497827</td>\n",
       "    </tr>\n",
       "    <tr>\n",
       "      <th>Medicine staff</th>\n",
       "      <td>1.558637</td>\n",
       "    </tr>\n",
       "    <tr>\n",
       "      <th>Pensioner_etc</th>\n",
       "      <td>2.000000</td>\n",
       "    </tr>\n",
       "    <tr>\n",
       "      <th>Private service staff</th>\n",
       "      <td>1.533168</td>\n",
       "    </tr>\n",
       "    <tr>\n",
       "      <th>Realty agents</th>\n",
       "      <td>0.800000</td>\n",
       "    </tr>\n",
       "    <tr>\n",
       "      <th>Retirement</th>\n",
       "      <td>1.554927</td>\n",
       "    </tr>\n",
       "    <tr>\n",
       "      <th>Sales staff</th>\n",
       "      <td>1.533262</td>\n",
       "    </tr>\n",
       "    <tr>\n",
       "      <th>Secretaries</th>\n",
       "      <td>1.609091</td>\n",
       "    </tr>\n",
       "    <tr>\n",
       "      <th>Security staff</th>\n",
       "      <td>1.713537</td>\n",
       "    </tr>\n",
       "    <tr>\n",
       "      <th>State_servant_etc</th>\n",
       "      <td>1.559524</td>\n",
       "    </tr>\n",
       "    <tr>\n",
       "      <th>Student_etc</th>\n",
       "      <td>2.000000</td>\n",
       "    </tr>\n",
       "    <tr>\n",
       "      <th>Waiters/barmen staff</th>\n",
       "      <td>1.652381</td>\n",
       "    </tr>\n",
       "    <tr>\n",
       "      <th>Working_etc</th>\n",
       "      <td>1.593261</td>\n",
       "    </tr>\n",
       "  </tbody>\n",
       "</table>\n",
       "</div>"
      ],
      "text/plain": [
       "                          Low_income_credit_avg\n",
       "occyp_type                                     \n",
       "Accountants                            1.484589\n",
       "Cleaning staff                         1.550734\n",
       "Commercial_associate_etc               1.603629\n",
       "Cooking staff                          1.553358\n",
       "Core staff                             1.537582\n",
       "Drivers                                1.461050\n",
       "HR staff                               1.794643\n",
       "High skill tech staff                  1.523418\n",
       "IT staff                               1.488095\n",
       "Laborers                               1.498162\n",
       "Low-skill Laborers                     1.600042\n",
       "Managers                               1.497827\n",
       "Medicine staff                         1.558637\n",
       "Pensioner_etc                          2.000000\n",
       "Private service staff                  1.533168\n",
       "Realty agents                          0.800000\n",
       "Retirement                             1.554927\n",
       "Sales staff                            1.533262\n",
       "Secretaries                            1.609091\n",
       "Security staff                         1.713537\n",
       "State_servant_etc                      1.559524\n",
       "Student_etc                            2.000000\n",
       "Waiters/barmen staff                   1.652381\n",
       "Working_etc                            1.593261"
      ]
     },
     "execution_count": 5,
     "metadata": {},
     "output_type": "execute_result"
    }
   ],
   "source": [
    "low_credit_avg = pd.DataFrame(low_income.groupby('occyp_type')['credit_avg'].mean())\n",
    "\n",
    "low_credit_avg = low_credit_avg.rename(columns = {'credit_avg' : 'Low_income_credit_avg'})\n",
    "\n",
    "low_credit_avg"
   ]
  },
  {
   "cell_type": "code",
   "execution_count": 6,
   "id": "1fec1574",
   "metadata": {},
   "outputs": [
    {
     "data": {
      "text/html": [
       "<div>\n",
       "<style scoped>\n",
       "    .dataframe tbody tr th:only-of-type {\n",
       "        vertical-align: middle;\n",
       "    }\n",
       "\n",
       "    .dataframe tbody tr th {\n",
       "        vertical-align: top;\n",
       "    }\n",
       "\n",
       "    .dataframe thead th {\n",
       "        text-align: right;\n",
       "    }\n",
       "</style>\n",
       "<table border=\"1\" class=\"dataframe\">\n",
       "  <thead>\n",
       "    <tr style=\"text-align: right;\">\n",
       "      <th></th>\n",
       "      <th>High_income_credit_avg</th>\n",
       "    </tr>\n",
       "    <tr>\n",
       "      <th>occyp_type</th>\n",
       "      <th></th>\n",
       "    </tr>\n",
       "  </thead>\n",
       "  <tbody>\n",
       "    <tr>\n",
       "      <th>Accountants</th>\n",
       "      <td>1.588983</td>\n",
       "    </tr>\n",
       "    <tr>\n",
       "      <th>Cleaning staff</th>\n",
       "      <td>1.620678</td>\n",
       "    </tr>\n",
       "    <tr>\n",
       "      <th>Commercial_associate_etc</th>\n",
       "      <td>1.563709</td>\n",
       "    </tr>\n",
       "    <tr>\n",
       "      <th>Cooking staff</th>\n",
       "      <td>1.514167</td>\n",
       "    </tr>\n",
       "    <tr>\n",
       "      <th>Core staff</th>\n",
       "      <td>1.531733</td>\n",
       "    </tr>\n",
       "    <tr>\n",
       "      <th>Drivers</th>\n",
       "      <td>1.606458</td>\n",
       "    </tr>\n",
       "    <tr>\n",
       "      <th>HR staff</th>\n",
       "      <td>1.675000</td>\n",
       "    </tr>\n",
       "    <tr>\n",
       "      <th>High skill tech staff</th>\n",
       "      <td>1.587059</td>\n",
       "    </tr>\n",
       "    <tr>\n",
       "      <th>IT staff</th>\n",
       "      <td>1.583333</td>\n",
       "    </tr>\n",
       "    <tr>\n",
       "      <th>Laborers</th>\n",
       "      <td>1.536823</td>\n",
       "    </tr>\n",
       "    <tr>\n",
       "      <th>Low-skill Laborers</th>\n",
       "      <td>1.214286</td>\n",
       "    </tr>\n",
       "    <tr>\n",
       "      <th>Managers</th>\n",
       "      <td>1.505650</td>\n",
       "    </tr>\n",
       "    <tr>\n",
       "      <th>Medicine staff</th>\n",
       "      <td>1.596045</td>\n",
       "    </tr>\n",
       "    <tr>\n",
       "      <th>Pensioner_etc</th>\n",
       "      <td>2.000000</td>\n",
       "    </tr>\n",
       "    <tr>\n",
       "      <th>Private service staff</th>\n",
       "      <td>1.565306</td>\n",
       "    </tr>\n",
       "    <tr>\n",
       "      <th>Realty agents</th>\n",
       "      <td>1.690300</td>\n",
       "    </tr>\n",
       "    <tr>\n",
       "      <th>Retirement</th>\n",
       "      <td>1.546952</td>\n",
       "    </tr>\n",
       "    <tr>\n",
       "      <th>Sales staff</th>\n",
       "      <td>1.607582</td>\n",
       "    </tr>\n",
       "    <tr>\n",
       "      <th>Secretaries</th>\n",
       "      <td>1.483333</td>\n",
       "    </tr>\n",
       "    <tr>\n",
       "      <th>Security staff</th>\n",
       "      <td>1.610444</td>\n",
       "    </tr>\n",
       "    <tr>\n",
       "      <th>State_servant_etc</th>\n",
       "      <td>1.498175</td>\n",
       "    </tr>\n",
       "    <tr>\n",
       "      <th>Waiters/barmen staff</th>\n",
       "      <td>1.575000</td>\n",
       "    </tr>\n",
       "    <tr>\n",
       "      <th>Working_etc</th>\n",
       "      <td>1.572773</td>\n",
       "    </tr>\n",
       "  </tbody>\n",
       "</table>\n",
       "</div>"
      ],
      "text/plain": [
       "                          High_income_credit_avg\n",
       "occyp_type                                      \n",
       "Accountants                             1.588983\n",
       "Cleaning staff                          1.620678\n",
       "Commercial_associate_etc                1.563709\n",
       "Cooking staff                           1.514167\n",
       "Core staff                              1.531733\n",
       "Drivers                                 1.606458\n",
       "HR staff                                1.675000\n",
       "High skill tech staff                   1.587059\n",
       "IT staff                                1.583333\n",
       "Laborers                                1.536823\n",
       "Low-skill Laborers                      1.214286\n",
       "Managers                                1.505650\n",
       "Medicine staff                          1.596045\n",
       "Pensioner_etc                           2.000000\n",
       "Private service staff                   1.565306\n",
       "Realty agents                           1.690300\n",
       "Retirement                              1.546952\n",
       "Sales staff                             1.607582\n",
       "Secretaries                             1.483333\n",
       "Security staff                          1.610444\n",
       "State_servant_etc                       1.498175\n",
       "Waiters/barmen staff                    1.575000\n",
       "Working_etc                             1.572773"
      ]
     },
     "execution_count": 6,
     "metadata": {},
     "output_type": "execute_result"
    }
   ],
   "source": [
    "high_credit_avg = pd.DataFrame(high_income.groupby('occyp_type')['credit_avg'].mean())\n",
    "\n",
    "high_credit_avg = high_credit_avg.rename(columns = {'credit_avg' : 'High_income_credit_avg'})\n",
    "\n",
    "high_credit_avg"
   ]
  },
  {
   "cell_type": "code",
   "execution_count": 7,
   "id": "07eac401",
   "metadata": {},
   "outputs": [
    {
     "data": {
      "text/html": [
       "<div>\n",
       "<style scoped>\n",
       "    .dataframe tbody tr th:only-of-type {\n",
       "        vertical-align: middle;\n",
       "    }\n",
       "\n",
       "    .dataframe tbody tr th {\n",
       "        vertical-align: top;\n",
       "    }\n",
       "\n",
       "    .dataframe thead th {\n",
       "        text-align: right;\n",
       "    }\n",
       "</style>\n",
       "<table border=\"1\" class=\"dataframe\">\n",
       "  <thead>\n",
       "    <tr style=\"text-align: right;\">\n",
       "      <th></th>\n",
       "      <th>High_income_credit_avg</th>\n",
       "      <th>Low_income_credit_avg</th>\n",
       "    </tr>\n",
       "    <tr>\n",
       "      <th>occyp_type</th>\n",
       "      <th></th>\n",
       "      <th></th>\n",
       "    </tr>\n",
       "  </thead>\n",
       "  <tbody>\n",
       "    <tr>\n",
       "      <th>Accountants</th>\n",
       "      <td>1.588983</td>\n",
       "      <td>1.484589</td>\n",
       "    </tr>\n",
       "    <tr>\n",
       "      <th>Cleaning staff</th>\n",
       "      <td>1.620678</td>\n",
       "      <td>1.550734</td>\n",
       "    </tr>\n",
       "    <tr>\n",
       "      <th>Commercial_associate_etc</th>\n",
       "      <td>1.563709</td>\n",
       "      <td>1.603629</td>\n",
       "    </tr>\n",
       "    <tr>\n",
       "      <th>Cooking staff</th>\n",
       "      <td>1.514167</td>\n",
       "      <td>1.553358</td>\n",
       "    </tr>\n",
       "    <tr>\n",
       "      <th>Core staff</th>\n",
       "      <td>1.531733</td>\n",
       "      <td>1.537582</td>\n",
       "    </tr>\n",
       "    <tr>\n",
       "      <th>Drivers</th>\n",
       "      <td>1.606458</td>\n",
       "      <td>1.461050</td>\n",
       "    </tr>\n",
       "    <tr>\n",
       "      <th>HR staff</th>\n",
       "      <td>1.675000</td>\n",
       "      <td>1.794643</td>\n",
       "    </tr>\n",
       "    <tr>\n",
       "      <th>High skill tech staff</th>\n",
       "      <td>1.587059</td>\n",
       "      <td>1.523418</td>\n",
       "    </tr>\n",
       "    <tr>\n",
       "      <th>IT staff</th>\n",
       "      <td>1.583333</td>\n",
       "      <td>1.488095</td>\n",
       "    </tr>\n",
       "    <tr>\n",
       "      <th>Laborers</th>\n",
       "      <td>1.536823</td>\n",
       "      <td>1.498162</td>\n",
       "    </tr>\n",
       "    <tr>\n",
       "      <th>Low-skill Laborers</th>\n",
       "      <td>1.214286</td>\n",
       "      <td>1.600042</td>\n",
       "    </tr>\n",
       "    <tr>\n",
       "      <th>Managers</th>\n",
       "      <td>1.505650</td>\n",
       "      <td>1.497827</td>\n",
       "    </tr>\n",
       "    <tr>\n",
       "      <th>Medicine staff</th>\n",
       "      <td>1.596045</td>\n",
       "      <td>1.558637</td>\n",
       "    </tr>\n",
       "    <tr>\n",
       "      <th>Pensioner_etc</th>\n",
       "      <td>2.000000</td>\n",
       "      <td>2.000000</td>\n",
       "    </tr>\n",
       "    <tr>\n",
       "      <th>Private service staff</th>\n",
       "      <td>1.565306</td>\n",
       "      <td>1.533168</td>\n",
       "    </tr>\n",
       "    <tr>\n",
       "      <th>Realty agents</th>\n",
       "      <td>1.690300</td>\n",
       "      <td>0.800000</td>\n",
       "    </tr>\n",
       "    <tr>\n",
       "      <th>Retirement</th>\n",
       "      <td>1.546952</td>\n",
       "      <td>1.554927</td>\n",
       "    </tr>\n",
       "    <tr>\n",
       "      <th>Sales staff</th>\n",
       "      <td>1.607582</td>\n",
       "      <td>1.533262</td>\n",
       "    </tr>\n",
       "    <tr>\n",
       "      <th>Secretaries</th>\n",
       "      <td>1.483333</td>\n",
       "      <td>1.609091</td>\n",
       "    </tr>\n",
       "    <tr>\n",
       "      <th>Security staff</th>\n",
       "      <td>1.610444</td>\n",
       "      <td>1.713537</td>\n",
       "    </tr>\n",
       "    <tr>\n",
       "      <th>State_servant_etc</th>\n",
       "      <td>1.498175</td>\n",
       "      <td>1.559524</td>\n",
       "    </tr>\n",
       "    <tr>\n",
       "      <th>Waiters/barmen staff</th>\n",
       "      <td>1.575000</td>\n",
       "      <td>1.652381</td>\n",
       "    </tr>\n",
       "    <tr>\n",
       "      <th>Working_etc</th>\n",
       "      <td>1.572773</td>\n",
       "      <td>1.593261</td>\n",
       "    </tr>\n",
       "  </tbody>\n",
       "</table>\n",
       "</div>"
      ],
      "text/plain": [
       "                          High_income_credit_avg  Low_income_credit_avg\n",
       "occyp_type                                                             \n",
       "Accountants                             1.588983               1.484589\n",
       "Cleaning staff                          1.620678               1.550734\n",
       "Commercial_associate_etc                1.563709               1.603629\n",
       "Cooking staff                           1.514167               1.553358\n",
       "Core staff                              1.531733               1.537582\n",
       "Drivers                                 1.606458               1.461050\n",
       "HR staff                                1.675000               1.794643\n",
       "High skill tech staff                   1.587059               1.523418\n",
       "IT staff                                1.583333               1.488095\n",
       "Laborers                                1.536823               1.498162\n",
       "Low-skill Laborers                      1.214286               1.600042\n",
       "Managers                                1.505650               1.497827\n",
       "Medicine staff                          1.596045               1.558637\n",
       "Pensioner_etc                           2.000000               2.000000\n",
       "Private service staff                   1.565306               1.533168\n",
       "Realty agents                           1.690300               0.800000\n",
       "Retirement                              1.546952               1.554927\n",
       "Sales staff                             1.607582               1.533262\n",
       "Secretaries                             1.483333               1.609091\n",
       "Security staff                          1.610444               1.713537\n",
       "State_servant_etc                       1.498175               1.559524\n",
       "Waiters/barmen staff                    1.575000               1.652381\n",
       "Working_etc                             1.572773               1.593261"
      ]
     },
     "execution_count": 7,
     "metadata": {},
     "output_type": "execute_result"
    }
   ],
   "source": [
    "income_credit_avg = pd.merge(high_credit_avg , low_credit_avg , on = 'occyp_type')\n",
    "\n",
    "income_credit_avg"
   ]
  },
  {
   "cell_type": "code",
   "execution_count": 8,
   "id": "7b0bf34d",
   "metadata": {},
   "outputs": [
    {
     "data": {
      "text/plain": [
       "['Accountants',\n",
       " 'Cleaning staff',\n",
       " 'Drivers',\n",
       " 'High skill tech staff',\n",
       " 'IT staff',\n",
       " 'Laborers',\n",
       " 'Managers',\n",
       " 'Medicine staff',\n",
       " 'Pensioner_etc',\n",
       " 'Private service staff',\n",
       " 'Realty agents',\n",
       " 'Sales staff']"
      ]
     },
     "execution_count": 8,
     "metadata": {},
     "output_type": "execute_result"
    }
   ],
   "source": [
    "occyp_list = []\n",
    "\n",
    "for i in range(len(income_credit_avg)) :\n",
    "    \n",
    "    if income_credit_avg.iloc[i , 1] <= income_credit_avg.iloc[i , 0] :\n",
    "        \n",
    "        occyp_list.append(income_credit_avg.index[i])\n",
    "        \n",
    "occyp_list"
   ]
  },
  {
   "cell_type": "code",
   "execution_count": 9,
   "id": "564bf1f7",
   "metadata": {},
   "outputs": [
    {
     "data": {
      "text/html": [
       "<div>\n",
       "<style scoped>\n",
       "    .dataframe tbody tr th:only-of-type {\n",
       "        vertical-align: middle;\n",
       "    }\n",
       "\n",
       "    .dataframe tbody tr th {\n",
       "        vertical-align: top;\n",
       "    }\n",
       "\n",
       "    .dataframe thead th {\n",
       "        text-align: right;\n",
       "    }\n",
       "</style>\n",
       "<table border=\"1\" class=\"dataframe\">\n",
       "  <thead>\n",
       "    <tr style=\"text-align: right;\">\n",
       "      <th></th>\n",
       "      <th>High_income_credit_avg</th>\n",
       "      <th>Low_income_credit_avg</th>\n",
       "    </tr>\n",
       "    <tr>\n",
       "      <th>occyp_type</th>\n",
       "      <th></th>\n",
       "      <th></th>\n",
       "    </tr>\n",
       "  </thead>\n",
       "  <tbody>\n",
       "    <tr>\n",
       "      <th>Accountants</th>\n",
       "      <td>1.588983</td>\n",
       "      <td>1.484589</td>\n",
       "    </tr>\n",
       "    <tr>\n",
       "      <th>Cleaning staff</th>\n",
       "      <td>1.620678</td>\n",
       "      <td>1.550734</td>\n",
       "    </tr>\n",
       "    <tr>\n",
       "      <th>Drivers</th>\n",
       "      <td>1.606458</td>\n",
       "      <td>1.461050</td>\n",
       "    </tr>\n",
       "    <tr>\n",
       "      <th>High skill tech staff</th>\n",
       "      <td>1.587059</td>\n",
       "      <td>1.523418</td>\n",
       "    </tr>\n",
       "    <tr>\n",
       "      <th>IT staff</th>\n",
       "      <td>1.583333</td>\n",
       "      <td>1.488095</td>\n",
       "    </tr>\n",
       "    <tr>\n",
       "      <th>Laborers</th>\n",
       "      <td>1.536823</td>\n",
       "      <td>1.498162</td>\n",
       "    </tr>\n",
       "    <tr>\n",
       "      <th>Managers</th>\n",
       "      <td>1.505650</td>\n",
       "      <td>1.497827</td>\n",
       "    </tr>\n",
       "    <tr>\n",
       "      <th>Medicine staff</th>\n",
       "      <td>1.596045</td>\n",
       "      <td>1.558637</td>\n",
       "    </tr>\n",
       "    <tr>\n",
       "      <th>Pensioner_etc</th>\n",
       "      <td>2.000000</td>\n",
       "      <td>2.000000</td>\n",
       "    </tr>\n",
       "    <tr>\n",
       "      <th>Private service staff</th>\n",
       "      <td>1.565306</td>\n",
       "      <td>1.533168</td>\n",
       "    </tr>\n",
       "    <tr>\n",
       "      <th>Realty agents</th>\n",
       "      <td>1.690300</td>\n",
       "      <td>0.800000</td>\n",
       "    </tr>\n",
       "    <tr>\n",
       "      <th>Sales staff</th>\n",
       "      <td>1.607582</td>\n",
       "      <td>1.533262</td>\n",
       "    </tr>\n",
       "  </tbody>\n",
       "</table>\n",
       "</div>"
      ],
      "text/plain": [
       "                       High_income_credit_avg  Low_income_credit_avg\n",
       "occyp_type                                                          \n",
       "Accountants                          1.588983               1.484589\n",
       "Cleaning staff                       1.620678               1.550734\n",
       "Drivers                              1.606458               1.461050\n",
       "High skill tech staff                1.587059               1.523418\n",
       "IT staff                             1.583333               1.488095\n",
       "Laborers                             1.536823               1.498162\n",
       "Managers                             1.505650               1.497827\n",
       "Medicine staff                       1.596045               1.558637\n",
       "Pensioner_etc                        2.000000               2.000000\n",
       "Private service staff                1.565306               1.533168\n",
       "Realty agents                        1.690300               0.800000\n",
       "Sales staff                          1.607582               1.533262"
      ]
     },
     "execution_count": 9,
     "metadata": {},
     "output_type": "execute_result"
    }
   ],
   "source": [
    "income_credit_avg = income_credit_avg.loc[occyp_list]\n",
    "\n",
    "income_credit_avg"
   ]
  },
  {
   "cell_type": "code",
   "execution_count": 10,
   "id": "dc207379",
   "metadata": {},
   "outputs": [],
   "source": [
    "income_credit_avg.insert(2 , 'Difference between High & Low' , \n",
    "                         income_credit_avg['High_income_credit_avg'] - income_credit_avg['Low_income_credit_avg'])"
   ]
  },
  {
   "cell_type": "code",
   "execution_count": 11,
   "id": "6323f7c1",
   "metadata": {},
   "outputs": [
    {
     "data": {
      "text/html": [
       "<div>\n",
       "<style scoped>\n",
       "    .dataframe tbody tr th:only-of-type {\n",
       "        vertical-align: middle;\n",
       "    }\n",
       "\n",
       "    .dataframe tbody tr th {\n",
       "        vertical-align: top;\n",
       "    }\n",
       "\n",
       "    .dataframe thead th {\n",
       "        text-align: right;\n",
       "    }\n",
       "</style>\n",
       "<table border=\"1\" class=\"dataframe\">\n",
       "  <thead>\n",
       "    <tr style=\"text-align: right;\">\n",
       "      <th></th>\n",
       "      <th>High_income_credit_avg</th>\n",
       "      <th>Low_income_credit_avg</th>\n",
       "      <th>Difference between High &amp; Low</th>\n",
       "    </tr>\n",
       "    <tr>\n",
       "      <th>occyp_type</th>\n",
       "      <th></th>\n",
       "      <th></th>\n",
       "      <th></th>\n",
       "    </tr>\n",
       "  </thead>\n",
       "  <tbody>\n",
       "    <tr>\n",
       "      <th>Realty agents</th>\n",
       "      <td>1.690300</td>\n",
       "      <td>0.800000</td>\n",
       "      <td>0.890300</td>\n",
       "    </tr>\n",
       "    <tr>\n",
       "      <th>Drivers</th>\n",
       "      <td>1.606458</td>\n",
       "      <td>1.461050</td>\n",
       "      <td>0.145409</td>\n",
       "    </tr>\n",
       "    <tr>\n",
       "      <th>Accountants</th>\n",
       "      <td>1.588983</td>\n",
       "      <td>1.484589</td>\n",
       "      <td>0.104394</td>\n",
       "    </tr>\n",
       "    <tr>\n",
       "      <th>IT staff</th>\n",
       "      <td>1.583333</td>\n",
       "      <td>1.488095</td>\n",
       "      <td>0.095238</td>\n",
       "    </tr>\n",
       "    <tr>\n",
       "      <th>Sales staff</th>\n",
       "      <td>1.607582</td>\n",
       "      <td>1.533262</td>\n",
       "      <td>0.074320</td>\n",
       "    </tr>\n",
       "    <tr>\n",
       "      <th>Cleaning staff</th>\n",
       "      <td>1.620678</td>\n",
       "      <td>1.550734</td>\n",
       "      <td>0.069944</td>\n",
       "    </tr>\n",
       "    <tr>\n",
       "      <th>High skill tech staff</th>\n",
       "      <td>1.587059</td>\n",
       "      <td>1.523418</td>\n",
       "      <td>0.063642</td>\n",
       "    </tr>\n",
       "    <tr>\n",
       "      <th>Laborers</th>\n",
       "      <td>1.536823</td>\n",
       "      <td>1.498162</td>\n",
       "      <td>0.038662</td>\n",
       "    </tr>\n",
       "    <tr>\n",
       "      <th>Medicine staff</th>\n",
       "      <td>1.596045</td>\n",
       "      <td>1.558637</td>\n",
       "      <td>0.037408</td>\n",
       "    </tr>\n",
       "    <tr>\n",
       "      <th>Private service staff</th>\n",
       "      <td>1.565306</td>\n",
       "      <td>1.533168</td>\n",
       "      <td>0.032138</td>\n",
       "    </tr>\n",
       "    <tr>\n",
       "      <th>Managers</th>\n",
       "      <td>1.505650</td>\n",
       "      <td>1.497827</td>\n",
       "      <td>0.007823</td>\n",
       "    </tr>\n",
       "    <tr>\n",
       "      <th>Pensioner_etc</th>\n",
       "      <td>2.000000</td>\n",
       "      <td>2.000000</td>\n",
       "      <td>0.000000</td>\n",
       "    </tr>\n",
       "  </tbody>\n",
       "</table>\n",
       "</div>"
      ],
      "text/plain": [
       "                       High_income_credit_avg  Low_income_credit_avg  \\\n",
       "occyp_type                                                             \n",
       "Realty agents                        1.690300               0.800000   \n",
       "Drivers                              1.606458               1.461050   \n",
       "Accountants                          1.588983               1.484589   \n",
       "IT staff                             1.583333               1.488095   \n",
       "Sales staff                          1.607582               1.533262   \n",
       "Cleaning staff                       1.620678               1.550734   \n",
       "High skill tech staff                1.587059               1.523418   \n",
       "Laborers                             1.536823               1.498162   \n",
       "Medicine staff                       1.596045               1.558637   \n",
       "Private service staff                1.565306               1.533168   \n",
       "Managers                             1.505650               1.497827   \n",
       "Pensioner_etc                        2.000000               2.000000   \n",
       "\n",
       "                       Difference between High & Low  \n",
       "occyp_type                                            \n",
       "Realty agents                               0.890300  \n",
       "Drivers                                     0.145409  \n",
       "Accountants                                 0.104394  \n",
       "IT staff                                    0.095238  \n",
       "Sales staff                                 0.074320  \n",
       "Cleaning staff                              0.069944  \n",
       "High skill tech staff                       0.063642  \n",
       "Laborers                                    0.038662  \n",
       "Medicine staff                              0.037408  \n",
       "Private service staff                       0.032138  \n",
       "Managers                                    0.007823  \n",
       "Pensioner_etc                               0.000000  "
      ]
     },
     "execution_count": 11,
     "metadata": {},
     "output_type": "execute_result"
    }
   ],
   "source": [
    "income_credit_avg.sort_values('Difference between High & Low' , ascending = False)"
   ]
  },
  {
   "cell_type": "markdown",
   "id": "0d3f061b",
   "metadata": {},
   "source": [
    "#### (1) Accountants"
   ]
  },
  {
   "cell_type": "code",
   "execution_count": 12,
   "id": "da96877e",
   "metadata": {
    "scrolled": false
   },
   "outputs": [
    {
     "name": "stdout",
     "output_type": "stream",
     "text": [
      "Accountants\n"
     ]
    },
    {
     "data": {
      "text/plain": [
       "Text(0.5, 1.0, 'Accountants')"
      ]
     },
     "execution_count": 12,
     "metadata": {},
     "output_type": "execute_result"
    },
    {
     "data": {
      "image/png": "[encoded data removed]",
      "text/plain": [
       "<Figure size 432x288 with 1 Axes>"
      ]
     },
     "metadata": {
      "needs_background": "light"
     },
     "output_type": "display_data"
    }
   ],
   "source": [
    "ans =  occyp_list[0] \n",
    "        \n",
    "data = df[df['occyp_type'] == ans]\n",
    "\n",
    "print(ans)\n",
    "        \n",
    "data.groupby('income_percentile')['car'].mean().plot(kind = 'bar')\n",
    "plt.ylim(0, 0.8)\n",
    "plt.xlabel('income percentile')\n",
    "plt.ylabel('Probability of owning car')\n",
    "plt.title('Accountants')"
   ]
  },
  {
   "cell_type": "code",
   "execution_count": 13,
   "id": "706a04af",
   "metadata": {},
   "outputs": [
    {
     "name": "stdout",
     "output_type": "stream",
     "text": [
      "Accountants\n"
     ]
    },
    {
     "data": {
      "text/plain": [
       "Text(0.5, 1.0, 'Accountants')"
      ]
     },
     "execution_count": 13,
     "metadata": {},
     "output_type": "execute_result"
    },
    {
     "data": {
      "image/png": "[encoded data removed]",
      "text/plain": [
       "<Figure size 432x288 with 1 Axes>"
      ]
     },
     "metadata": {
      "needs_background": "light"
     },
     "output_type": "display_data"
    }
   ],
   "source": [
    "ans =  occyp_list[0] \n",
    "        \n",
    "data = df[df['occyp_type'] == ans]\n",
    "\n",
    "print(ans)\n",
    "        \n",
    "data.groupby('income_percentile')['START_EMPLOYED'].mean().plot(kind = 'bar')\n",
    "plt.ylim(10000, 14000)\n",
    "plt.xlabel('income percentile')\n",
    "plt.ylabel('Start_Employed')\n",
    "plt.title('Accountants')"
   ]
  },
  {
   "cell_type": "code",
   "execution_count": 14,
   "id": "c9cccfdc",
   "metadata": {
    "scrolled": true
   },
   "outputs": [
    {
     "name": "stdout",
     "output_type": "stream",
     "text": [
      "Accountants\n"
     ]
    },
    {
     "data": {
      "text/plain": [
       "Text(0.5, 1.0, 'Accountants')"
      ]
     },
     "execution_count": 14,
     "metadata": {},
     "output_type": "execute_result"
    },
    {
     "data": {
      "image/png": "[encoded data removed]",
      "text/plain": [
       "<Figure size 432x288 with 1 Axes>"
      ]
     },
     "metadata": {
      "needs_background": "light"
     },
     "output_type": "display_data"
    }
   ],
   "source": [
    "ans =  occyp_list[0] \n",
    "        \n",
    "data = df[df['occyp_type'] == ans]\n",
    "\n",
    "print(ans)\n",
    "        \n",
    "data.groupby('income_percentile')['Counts'].mean().plot(kind = 'bar')\n",
    "plt.ylim(1, 5)\n",
    "plt.xlabel('income percentile')\n",
    "plt.ylabel('# of Card issue')\n",
    "plt.title('Accountants')"
   ]
  },
  {
   "cell_type": "code",
   "execution_count": 15,
   "id": "67237442",
   "metadata": {
    "scrolled": true
   },
   "outputs": [
    {
     "name": "stdout",
     "output_type": "stream",
     "text": [
      "Accountants\n"
     ]
    },
    {
     "data": {
      "text/plain": [
       "Text(0.5, 1.0, 'Accountants')"
      ]
     },
     "execution_count": 15,
     "metadata": {},
     "output_type": "execute_result"
    },
    {
     "data": {
      "image/png": "[encoded data removed]",
      "text/plain": [
       "<Figure size 432x288 with 1 Axes>"
      ]
     },
     "metadata": {
      "needs_background": "light"
     },
     "output_type": "display_data"
    }
   ],
   "source": [
    "ans =  occyp_list[0] \n",
    "        \n",
    "data = df[df['occyp_type'] == ans]\n",
    "\n",
    "print(ans)\n",
    "        \n",
    "data.groupby('income_percentile')['child_num'].mean().plot(kind = 'bar')\n",
    "plt.ylim(0, 1)\n",
    "plt.xlabel('income percentile')\n",
    "plt.ylabel('# of Child')\n",
    "plt.title('Accountants')"
   ]
  },
  {
   "cell_type": "markdown",
   "id": "49990291",
   "metadata": {},
   "source": [
    "#### (2) Cleaning staff"
   ]
  },
  {
   "cell_type": "code",
   "execution_count": 16,
   "id": "0e88ae8a",
   "metadata": {},
   "outputs": [
    {
     "name": "stdout",
     "output_type": "stream",
     "text": [
      "Cleaning staff\n"
     ]
    },
    {
     "data": {
      "text/plain": [
       "Text(0.5, 1.0, 'Cleaning staff')"
      ]
     },
     "execution_count": 16,
     "metadata": {},
     "output_type": "execute_result"
    },
    {
     "data": {
      "image/png": "[encoded data removed]",
      "text/plain": [
       "<Figure size 432x288 with 1 Axes>"
      ]
     },
     "metadata": {
      "needs_background": "light"
     },
     "output_type": "display_data"
    }
   ],
   "source": [
    "ans =  occyp_list[1] \n",
    "        \n",
    "data = df[df['occyp_type'] == ans]\n",
    "\n",
    "print(ans)\n",
    "        \n",
    "data.groupby('income_percentile')['car'].mean().plot(kind = 'bar')\n",
    "plt.ylim(0, 0.8)\n",
    "plt.xlabel('income percentile')\n",
    "plt.ylabel('Probability of owning car')\n",
    "plt.title('Cleaning staff')"
   ]
  },
  {
   "cell_type": "code",
   "execution_count": 17,
   "id": "4a5f54ad",
   "metadata": {},
   "outputs": [
    {
     "name": "stdout",
     "output_type": "stream",
     "text": [
      "Cleaning staff\n"
     ]
    },
    {
     "data": {
      "text/plain": [
       "Text(0.5, 1.0, 'Cleaning staff')"
      ]
     },
     "execution_count": 17,
     "metadata": {},
     "output_type": "execute_result"
    },
    {
     "data": {
      "image/png": "[encoded data removed]",
      "text/plain": [
       "<Figure size 432x288 with 1 Axes>"
      ]
     },
     "metadata": {
      "needs_background": "light"
     },
     "output_type": "display_data"
    }
   ],
   "source": [
    "ans =  occyp_list[1] \n",
    "        \n",
    "data = df[df['occyp_type'] == ans]\n",
    "\n",
    "print(ans)\n",
    "        \n",
    "data.groupby('income_percentile')['START_EMPLOYED'].mean().plot(kind = 'bar')\n",
    "plt.ylim(10000, 19000)\n",
    "plt.xlabel('income percentile')\n",
    "plt.ylabel('Start_Employed')\n",
    "plt.title('Cleaning staff')"
   ]
  },
  {
   "cell_type": "code",
   "execution_count": 18,
   "id": "4c69ca6f",
   "metadata": {
    "scrolled": true
   },
   "outputs": [
    {
     "name": "stdout",
     "output_type": "stream",
     "text": [
      "Cleaning staff\n"
     ]
    },
    {
     "data": {
      "text/plain": [
       "Text(0.5, 1.0, 'Cleaning staff')"
      ]
     },
     "execution_count": 18,
     "metadata": {},
     "output_type": "execute_result"
    },
    {
     "data": {
      "image/png": "[encoded data removed]",
      "text/plain": [
       "<Figure size 432x288 with 1 Axes>"
      ]
     },
     "metadata": {
      "needs_background": "light"
     },
     "output_type": "display_data"
    }
   ],
   "source": [
    "ans =  occyp_list[1] \n",
    "        \n",
    "data = df[df['occyp_type'] == ans]\n",
    "\n",
    "print(ans)\n",
    "        \n",
    "data.groupby('income_percentile')['Counts'].mean().plot(kind = 'bar')\n",
    "plt.ylim(1, 5)\n",
    "plt.xlabel('income percentile')\n",
    "plt.ylabel('# of Card issue')\n",
    "plt.title('Cleaning staff')"
   ]
  },
  {
   "cell_type": "code",
   "execution_count": 19,
   "id": "c1d35044",
   "metadata": {
    "scrolled": true
   },
   "outputs": [
    {
     "name": "stdout",
     "output_type": "stream",
     "text": [
      "Cleaning staff\n"
     ]
    },
    {
     "data": {
      "text/plain": [
       "Text(0.5, 1.0, 'Cleaning staff')"
      ]
     },
     "execution_count": 19,
     "metadata": {},
     "output_type": "execute_result"
    },
    {
     "data": {
      "image/png": "[encoded data removed]",
      "text/plain": [
       "<Figure size 432x288 with 1 Axes>"
      ]
     },
     "metadata": {
      "needs_background": "light"
     },
     "output_type": "display_data"
    }
   ],
   "source": [
    "ans =  occyp_list[1] \n",
    "        \n",
    "data = df[df['occyp_type'] == ans]\n",
    "\n",
    "print(ans)\n",
    "        \n",
    "data.groupby('income_percentile')['child_num'].mean().plot(kind = 'bar')\n",
    "plt.ylim(0, 1.5)\n",
    "plt.xlabel('income percentile')\n",
    "plt.ylabel('# of Child')\n",
    "plt.title('Cleaning staff')"
   ]
  },
  {
   "cell_type": "markdown",
   "id": "d8a4f288",
   "metadata": {},
   "source": [
    "#### (3) Drivers"
   ]
  },
  {
   "cell_type": "code",
   "execution_count": 20,
   "id": "a3881125",
   "metadata": {},
   "outputs": [
    {
     "name": "stdout",
     "output_type": "stream",
     "text": [
      "Drivers\n"
     ]
    },
    {
     "data": {
      "text/plain": [
       "Text(0.5, 1.0, 'Drivers')"
      ]
     },
     "execution_count": 20,
     "metadata": {},
     "output_type": "execute_result"
    },
    {
     "data": {
      "image/png": "[encoded data removed]",
      "text/plain": [
       "<Figure size 432x288 with 1 Axes>"
      ]
     },
     "metadata": {
      "needs_background": "light"
     },
     "output_type": "display_data"
    }
   ],
   "source": [
    "ans =  occyp_list[2]\n",
    "        \n",
    "data = df[df['occyp_type'] == ans]\n",
    "\n",
    "print(ans)\n",
    "        \n",
    "data.groupby('income_percentile')['car'].mean().plot(kind = 'bar')\n",
    "plt.ylim(0, 0.9)\n",
    "plt.xlabel('income percentile')\n",
    "plt.ylabel('Probability of owning car')\n",
    "plt.title('Drivers')"
   ]
  },
  {
   "cell_type": "code",
   "execution_count": 21,
   "id": "ba75a387",
   "metadata": {},
   "outputs": [
    {
     "name": "stdout",
     "output_type": "stream",
     "text": [
      "Drivers\n"
     ]
    },
    {
     "data": {
      "text/plain": [
       "Text(0.5, 1.0, 'Drivers')"
      ]
     },
     "execution_count": 21,
     "metadata": {},
     "output_type": "execute_result"
    },
    {
     "data": {
      "image/png": "[encoded data removed]",
      "text/plain": [
       "<Figure size 432x288 with 1 Axes>"
      ]
     },
     "metadata": {
      "needs_background": "light"
     },
     "output_type": "display_data"
    }
   ],
   "source": [
    "ans =  occyp_list[2] \n",
    "        \n",
    "data = df[df['occyp_type'] == ans]\n",
    "\n",
    "print(ans)\n",
    "        \n",
    "data.groupby('income_percentile')['START_EMPLOYED'].mean().plot(kind = 'bar')\n",
    "plt.ylim(10000, 16000)\n",
    "plt.xlabel('income percentile')\n",
    "plt.ylabel('Start_Employed')\n",
    "plt.title('Drivers')"
   ]
  },
  {
   "cell_type": "code",
   "execution_count": 22,
   "id": "d5d9dcd9",
   "metadata": {
    "scrolled": true
   },
   "outputs": [
    {
     "name": "stdout",
     "output_type": "stream",
     "text": [
      "Drivers\n"
     ]
    },
    {
     "data": {
      "text/plain": [
       "Text(0.5, 1.0, 'Drivers')"
      ]
     },
     "execution_count": 22,
     "metadata": {},
     "output_type": "execute_result"
    },
    {
     "data": {
      "image/png": "[encoded data removed]",
      "text/plain": [
       "<Figure size 432x288 with 1 Axes>"
      ]
     },
     "metadata": {
      "needs_background": "light"
     },
     "output_type": "display_data"
    }
   ],
   "source": [
    "ans =  occyp_list[2] \n",
    "        \n",
    "data = df[df['occyp_type'] == ans]\n",
    "\n",
    "print(ans)\n",
    "        \n",
    "data.groupby('income_percentile')['Counts'].mean().plot(kind = 'bar')\n",
    "plt.ylim(1, 5)\n",
    "plt.xlabel('income percentile')\n",
    "plt.ylabel('# of Card issue')\n",
    "plt.title('Drivers')"
   ]
  },
  {
   "cell_type": "code",
   "execution_count": 23,
   "id": "7f582bd4",
   "metadata": {
    "scrolled": true
   },
   "outputs": [
    {
     "name": "stdout",
     "output_type": "stream",
     "text": [
      "Drivers\n"
     ]
    },
    {
     "data": {
      "text/plain": [
       "Text(0.5, 1.0, 'Drivers')"
      ]
     },
     "execution_count": 23,
     "metadata": {},
     "output_type": "execute_result"
    },
    {
     "data": {
      "image/png": "[encoded data removed]",
      "text/plain": [
       "<Figure size 432x288 with 1 Axes>"
      ]
     },
     "metadata": {
      "needs_background": "light"
     },
     "output_type": "display_data"
    }
   ],
   "source": [
    "ans =  occyp_list[2] \n",
    "        \n",
    "data = df[df['occyp_type'] == ans]\n",
    "\n",
    "print(ans)\n",
    "        \n",
    "data.groupby('income_percentile')['child_num'].mean().plot(kind = 'bar')\n",
    "plt.ylim(0, 1)\n",
    "plt.xlabel('income percentile')\n",
    "plt.ylabel('# of Child')\n",
    "plt.title('Drivers')"
   ]
  },
  {
   "cell_type": "markdown",
   "id": "55d97e54",
   "metadata": {},
   "source": [
    "#### (4) High skill tech staff"
   ]
  },
  {
   "cell_type": "code",
   "execution_count": 24,
   "id": "5c91183b",
   "metadata": {},
   "outputs": [
    {
     "name": "stdout",
     "output_type": "stream",
     "text": [
      "High skill tech staff\n"
     ]
    },
    {
     "data": {
      "text/plain": [
       "Text(0.5, 1.0, 'High skill tech staff')"
      ]
     },
     "execution_count": 24,
     "metadata": {},
     "output_type": "execute_result"
    },
    {
     "data": {
      "image/png": "[encoded data removed]",
      "text/plain": [
       "<Figure size 432x288 with 1 Axes>"
      ]
     },
     "metadata": {
      "needs_background": "light"
     },
     "output_type": "display_data"
    }
   ],
   "source": [
    "ans =  occyp_list[3]\n",
    "        \n",
    "data = df[df['occyp_type'] == ans]\n",
    "\n",
    "print(ans)\n",
    "        \n",
    "data.groupby('income_percentile')['car'].mean().plot(kind = 'bar')\n",
    "plt.ylim(0, 0.9)\n",
    "plt.xlabel('income percentile')\n",
    "plt.ylabel('Probability of owning car')\n",
    "plt.title('High skill tech staff')"
   ]
  },
  {
   "cell_type": "code",
   "execution_count": 25,
   "id": "f7cff7e9",
   "metadata": {},
   "outputs": [
    {
     "name": "stdout",
     "output_type": "stream",
     "text": [
      "High skill tech staff\n"
     ]
    },
    {
     "data": {
      "text/plain": [
       "Text(0.5, 1.0, 'High skill tech staff')"
      ]
     },
     "execution_count": 25,
     "metadata": {},
     "output_type": "execute_result"
    },
    {
     "data": {
      "image/png": "[encoded data removed]",
      "text/plain": [
       "<Figure size 432x288 with 1 Axes>"
      ]
     },
     "metadata": {
      "needs_background": "light"
     },
     "output_type": "display_data"
    }
   ],
   "source": [
    "ans =  occyp_list[3] \n",
    "        \n",
    "data = df[df['occyp_type'] == ans]\n",
    "\n",
    "print(ans)\n",
    "        \n",
    "data.groupby('income_percentile')['START_EMPLOYED'].mean().plot(kind = 'bar')\n",
    "plt.ylim(10000, 14000)\n",
    "plt.xlabel('income percentile')\n",
    "plt.ylabel('Start_Employed')\n",
    "plt.title('High skill tech staff')"
   ]
  },
  {
   "cell_type": "code",
   "execution_count": 26,
   "id": "5c8277ef",
   "metadata": {
    "scrolled": true
   },
   "outputs": [
    {
     "name": "stdout",
     "output_type": "stream",
     "text": [
      "High skill tech staff\n"
     ]
    },
    {
     "data": {
      "text/plain": [
       "Text(0.5, 1.0, 'High skill tech staff')"
      ]
     },
     "execution_count": 26,
     "metadata": {},
     "output_type": "execute_result"
    },
    {
     "data": {
      "image/png": "[encoded data removed]",
      "text/plain": [
       "<Figure size 432x288 with 1 Axes>"
      ]
     },
     "metadata": {
      "needs_background": "light"
     },
     "output_type": "display_data"
    }
   ],
   "source": [
    "ans =  occyp_list[3] \n",
    "        \n",
    "data = df[df['occyp_type'] == ans]\n",
    "\n",
    "print(ans)\n",
    "        \n",
    "data.groupby('income_percentile')['Counts'].mean().plot(kind = 'bar')\n",
    "plt.ylim(1, 5)\n",
    "plt.xlabel('income percentile')\n",
    "plt.ylabel('# of Card issue')\n",
    "plt.title('High skill tech staff')"
   ]
  },
  {
   "cell_type": "code",
   "execution_count": 27,
   "id": "3762d7d8",
   "metadata": {
    "scrolled": true
   },
   "outputs": [
    {
     "name": "stdout",
     "output_type": "stream",
     "text": [
      "High skill tech staff\n"
     ]
    },
    {
     "data": {
      "text/plain": [
       "Text(0.5, 1.0, 'High skill tech staff')"
      ]
     },
     "execution_count": 27,
     "metadata": {},
     "output_type": "execute_result"
    },
    {
     "data": {
      "image/png": "[encoded data removed]",
      "text/plain": [
       "<Figure size 432x288 with 1 Axes>"
      ]
     },
     "metadata": {
      "needs_background": "light"
     },
     "output_type": "display_data"
    }
   ],
   "source": [
    "ans =  occyp_list[3] \n",
    "        \n",
    "data = df[df['occyp_type'] == ans]\n",
    "\n",
    "print(ans)\n",
    "        \n",
    "data.groupby('income_percentile')['child_num'].mean().plot(kind = 'bar')\n",
    "plt.ylim(0, 1)\n",
    "plt.xlabel('income percentile')\n",
    "plt.ylabel('# of Child')\n",
    "plt.title('High skill tech staff')"
   ]
  },
  {
   "cell_type": "markdown",
   "id": "9abf4317",
   "metadata": {},
   "source": [
    "#### (5) IT staff"
   ]
  },
  {
   "cell_type": "code",
   "execution_count": 28,
   "id": "04755aab",
   "metadata": {},
   "outputs": [
    {
     "name": "stdout",
     "output_type": "stream",
     "text": [
      "IT staff\n"
     ]
    },
    {
     "data": {
      "text/plain": [
       "Text(0.5, 1.0, 'IT staff')"
      ]
     },
     "execution_count": 28,
     "metadata": {},
     "output_type": "execute_result"
    },
    {
     "data": {
      "image/png": "[encoded data removed]",
      "text/plain": [
       "<Figure size 432x288 with 1 Axes>"
      ]
     },
     "metadata": {
      "needs_background": "light"
     },
     "output_type": "display_data"
    }
   ],
   "source": [
    "ans =  occyp_list[4]\n",
    "        \n",
    "data = df[df['occyp_type'] == ans]\n",
    "\n",
    "print(ans)\n",
    "        \n",
    "data.groupby('income_percentile')['car'].mean().plot(kind = 'bar')\n",
    "plt.ylim(0, 1)\n",
    "plt.xlabel('income percentile')\n",
    "plt.ylabel('Probability of owning car')\n",
    "plt.title('IT staff')"
   ]
  },
  {
   "cell_type": "code",
   "execution_count": 29,
   "id": "0011a1f7",
   "metadata": {},
   "outputs": [
    {
     "name": "stdout",
     "output_type": "stream",
     "text": [
      "IT staff\n"
     ]
    },
    {
     "data": {
      "text/plain": [
       "Text(0.5, 1.0, 'IT staff')"
      ]
     },
     "execution_count": 29,
     "metadata": {},
     "output_type": "execute_result"
    },
    {
     "data": {
      "image/png": "[encoded data removed]",
      "text/plain": [
       "<Figure size 432x288 with 1 Axes>"
      ]
     },
     "metadata": {
      "needs_background": "light"
     },
     "output_type": "display_data"
    }
   ],
   "source": [
    "ans =  occyp_list[4] \n",
    "        \n",
    "data = df[df['occyp_type'] == ans]\n",
    "\n",
    "print(ans)\n",
    "        \n",
    "data.groupby('income_percentile')['START_EMPLOYED'].mean().plot(kind = 'bar')\n",
    "plt.ylim(7000, 19000)\n",
    "plt.xlabel('income percentile')\n",
    "plt.ylabel('Start_Employed')\n",
    "plt.title('IT staff')"
   ]
  },
  {
   "cell_type": "code",
   "execution_count": 30,
   "id": "6243412b",
   "metadata": {
    "scrolled": true
   },
   "outputs": [
    {
     "name": "stdout",
     "output_type": "stream",
     "text": [
      "IT staff\n"
     ]
    },
    {
     "data": {
      "text/plain": [
       "Text(0.5, 1.0, 'IT staff')"
      ]
     },
     "execution_count": 30,
     "metadata": {},
     "output_type": "execute_result"
    },
    {
     "data": {
      "image/png": "[encoded data removed]",
      "text/plain": [
       "<Figure size 432x288 with 1 Axes>"
      ]
     },
     "metadata": {
      "needs_background": "light"
     },
     "output_type": "display_data"
    }
   ],
   "source": [
    "ans =  occyp_list[4] \n",
    "        \n",
    "data = df[df['occyp_type'] == ans]\n",
    "\n",
    "print(ans)\n",
    "        \n",
    "data.groupby('income_percentile')['Counts'].mean().plot(kind = 'bar')\n",
    "plt.ylim(0, 7.5)\n",
    "plt.xlabel('income percentile')\n",
    "plt.ylabel('# of Card issue')\n",
    "plt.title('IT staff')"
   ]
  },
  {
   "cell_type": "code",
   "execution_count": 31,
   "id": "52d8aea0",
   "metadata": {
    "scrolled": true
   },
   "outputs": [
    {
     "name": "stdout",
     "output_type": "stream",
     "text": [
      "IT staff\n"
     ]
    },
    {
     "data": {
      "text/plain": [
       "Text(0.5, 1.0, 'IT staff')"
      ]
     },
     "execution_count": 31,
     "metadata": {},
     "output_type": "execute_result"
    },
    {
     "data": {
      "image/png": "[encoded data removed]",
      "text/plain": [
       "<Figure size 432x288 with 1 Axes>"
      ]
     },
     "metadata": {
      "needs_background": "light"
     },
     "output_type": "display_data"
    }
   ],
   "source": [
    "ans =  occyp_list[4] \n",
    "        \n",
    "data = df[df['occyp_type'] == ans]\n",
    "\n",
    "print(ans)\n",
    "        \n",
    "data.groupby('income_percentile')['child_num'].mean().plot(kind = 'bar')\n",
    "plt.ylim(0, 2)\n",
    "plt.xlabel('income percentile')\n",
    "plt.ylabel('# of Child')\n",
    "plt.title('IT staff')"
   ]
  },
  {
   "cell_type": "markdown",
   "id": "d5f79ae4",
   "metadata": {},
   "source": [
    "#### (6) Laborers"
   ]
  },
  {
   "cell_type": "code",
   "execution_count": 32,
   "id": "ee0d5512",
   "metadata": {},
   "outputs": [
    {
     "name": "stdout",
     "output_type": "stream",
     "text": [
      "Laborers\n"
     ]
    },
    {
     "data": {
      "text/plain": [
       "Text(0.5, 1.0, 'Laborers')"
      ]
     },
     "execution_count": 32,
     "metadata": {},
     "output_type": "execute_result"
    },
    {
     "data": {
      "image/png": "[encoded data removed]",
      "text/plain": [
       "<Figure size 432x288 with 1 Axes>"
      ]
     },
     "metadata": {
      "needs_background": "light"
     },
     "output_type": "display_data"
    }
   ],
   "source": [
    "ans =  occyp_list[5]\n",
    "        \n",
    "data = df[df['occyp_type'] == ans]\n",
    "\n",
    "print(ans)\n",
    "        \n",
    "data.groupby('income_percentile')['car'].mean().plot(kind = 'bar')\n",
    "plt.ylim(0, 1)\n",
    "plt.xlabel('income percentile')\n",
    "plt.ylabel('Probability of owning car')\n",
    "plt.title('Laborers')"
   ]
  },
  {
   "cell_type": "code",
   "execution_count": 33,
   "id": "be89f9c3",
   "metadata": {},
   "outputs": [
    {
     "name": "stdout",
     "output_type": "stream",
     "text": [
      "Laborers\n"
     ]
    },
    {
     "data": {
      "text/plain": [
       "Text(0.5, 1.0, 'Laborers')"
      ]
     },
     "execution_count": 33,
     "metadata": {},
     "output_type": "execute_result"
    },
    {
     "data": {
      "image/png": "[encoded data removed]",
      "text/plain": [
       "<Figure size 432x288 with 1 Axes>"
      ]
     },
     "metadata": {
      "needs_background": "light"
     },
     "output_type": "display_data"
    }
   ],
   "source": [
    "ans =  occyp_list[5] \n",
    "        \n",
    "data = df[df['occyp_type'] == ans]\n",
    "\n",
    "print(ans)\n",
    "        \n",
    "data.groupby('income_percentile')['START_EMPLOYED'].mean().plot(kind = 'bar')\n",
    "plt.ylim(10000, 14000)\n",
    "plt.xlabel('income percentile')\n",
    "plt.ylabel('Start_Employed')\n",
    "plt.title('Laborers')"
   ]
  },
  {
   "cell_type": "code",
   "execution_count": 34,
   "id": "6a2fd957",
   "metadata": {
    "scrolled": true
   },
   "outputs": [
    {
     "name": "stdout",
     "output_type": "stream",
     "text": [
      "Laborers\n"
     ]
    },
    {
     "data": {
      "text/plain": [
       "Text(0.5, 1.0, 'Laborers')"
      ]
     },
     "execution_count": 34,
     "metadata": {},
     "output_type": "execute_result"
    },
    {
     "data": {
      "image/png": "[encoded data removed]",
      "text/plain": [
       "<Figure size 432x288 with 1 Axes>"
      ]
     },
     "metadata": {
      "needs_background": "light"
     },
     "output_type": "display_data"
    }
   ],
   "source": [
    "ans =  occyp_list[5] \n",
    "        \n",
    "data = df[df['occyp_type'] == ans]\n",
    "\n",
    "print(ans)\n",
    "        \n",
    "data.groupby('income_percentile')['Counts'].mean().plot(kind = 'bar')\n",
    "plt.ylim(1, 5)\n",
    "plt.xlabel('income percentile')\n",
    "plt.ylabel('# of Card issue')\n",
    "plt.title('Laborers')"
   ]
  },
  {
   "cell_type": "code",
   "execution_count": 35,
   "id": "385892ac",
   "metadata": {
    "scrolled": true
   },
   "outputs": [
    {
     "name": "stdout",
     "output_type": "stream",
     "text": [
      "Laborers\n"
     ]
    },
    {
     "data": {
      "text/plain": [
       "Text(0.5, 1.0, 'Laborers')"
      ]
     },
     "execution_count": 35,
     "metadata": {},
     "output_type": "execute_result"
    },
    {
     "data": {
      "image/png": "[encoded data removed]",
      "text/plain": [
       "<Figure size 432x288 with 1 Axes>"
      ]
     },
     "metadata": {
      "needs_background": "light"
     },
     "output_type": "display_data"
    }
   ],
   "source": [
    "ans =  occyp_list[5] \n",
    "        \n",
    "data = df[df['occyp_type'] == ans]\n",
    "\n",
    "print(ans)\n",
    "        \n",
    "data.groupby('income_percentile')['child_num'].mean().plot(kind = 'bar')\n",
    "plt.ylim(0, 1)\n",
    "plt.xlabel('income percentile')\n",
    "plt.ylabel('# of Child')\n",
    "plt.title('Laborers')"
   ]
  },
  {
   "cell_type": "markdown",
   "id": "6ab60b96",
   "metadata": {},
   "source": [
    "#### (7) Managers"
   ]
  },
  {
   "cell_type": "code",
   "execution_count": 36,
   "id": "706a38a4",
   "metadata": {},
   "outputs": [
    {
     "name": "stdout",
     "output_type": "stream",
     "text": [
      "Managers\n"
     ]
    },
    {
     "data": {
      "text/plain": [
       "Text(0.5, 1.0, 'Managers')"
      ]
     },
     "execution_count": 36,
     "metadata": {},
     "output_type": "execute_result"
    },
    {
     "data": {
      "image/png": "[encoded data removed]",
      "text/plain": [
       "<Figure size 432x288 with 1 Axes>"
      ]
     },
     "metadata": {
      "needs_background": "light"
     },
     "output_type": "display_data"
    }
   ],
   "source": [
    "ans =  occyp_list[6]\n",
    "        \n",
    "data = df[df['occyp_type'] == ans]\n",
    "\n",
    "print(ans)\n",
    "        \n",
    "data.groupby('income_percentile')['car'].mean().plot(kind = 'bar')\n",
    "plt.ylim(0, 1)\n",
    "plt.xlabel('income percentile')\n",
    "plt.ylabel('Probability of owning car')\n",
    "plt.title('Managers')"
   ]
  },
  {
   "cell_type": "code",
   "execution_count": 37,
   "id": "22e4abda",
   "metadata": {},
   "outputs": [
    {
     "name": "stdout",
     "output_type": "stream",
     "text": [
      "Managers\n"
     ]
    },
    {
     "data": {
      "text/plain": [
       "Text(0.5, 1.0, 'Managers')"
      ]
     },
     "execution_count": 37,
     "metadata": {},
     "output_type": "execute_result"
    },
    {
     "data": {
      "image/png": "[encoded data removed]",
      "text/plain": [
       "<Figure size 432x288 with 1 Axes>"
      ]
     },
     "metadata": {
      "needs_background": "light"
     },
     "output_type": "display_data"
    }
   ],
   "source": [
    "ans =  occyp_list[6] \n",
    "        \n",
    "data = df[df['occyp_type'] == ans]\n",
    "\n",
    "print(ans)\n",
    "        \n",
    "data.groupby('income_percentile')['START_EMPLOYED'].mean().plot(kind = 'bar')\n",
    "plt.ylim(10000, 14000)\n",
    "plt.xlabel('income percentile')\n",
    "plt.ylabel('Start_Employed')\n",
    "plt.title('Managers')"
   ]
  },
  {
   "cell_type": "code",
   "execution_count": 38,
   "id": "aa283622",
   "metadata": {
    "scrolled": true
   },
   "outputs": [
    {
     "name": "stdout",
     "output_type": "stream",
     "text": [
      "Managers\n"
     ]
    },
    {
     "data": {
      "text/plain": [
       "Text(0.5, 1.0, 'Managers')"
      ]
     },
     "execution_count": 38,
     "metadata": {},
     "output_type": "execute_result"
    },
    {
     "data": {
      "image/png": "[encoded data removed]",
      "text/plain": [
       "<Figure size 432x288 with 1 Axes>"
      ]
     },
     "metadata": {
      "needs_background": "light"
     },
     "output_type": "display_data"
    }
   ],
   "source": [
    "ans =  occyp_list[6] \n",
    "        \n",
    "data = df[df['occyp_type'] == ans]\n",
    "\n",
    "print(ans)\n",
    "        \n",
    "data.groupby('income_percentile')['Counts'].mean().plot(kind = 'bar')\n",
    "plt.ylim(1, 5)\n",
    "plt.xlabel('income percentile')\n",
    "plt.ylabel('# of Card issue')\n",
    "plt.title('Managers')"
   ]
  },
  {
   "cell_type": "code",
   "execution_count": 39,
   "id": "d02bfb58",
   "metadata": {
    "scrolled": true
   },
   "outputs": [
    {
     "name": "stdout",
     "output_type": "stream",
     "text": [
      "Managers\n"
     ]
    },
    {
     "data": {
      "text/plain": [
       "Text(0.5, 1.0, 'Managers')"
      ]
     },
     "execution_count": 39,
     "metadata": {},
     "output_type": "execute_result"
    },
    {
     "data": {
      "image/png": "[encoded data removed]",
      "text/plain": [
       "<Figure size 432x288 with 1 Axes>"
      ]
     },
     "metadata": {
      "needs_background": "light"
     },
     "output_type": "display_data"
    }
   ],
   "source": [
    "ans =  occyp_list[6] \n",
    "        \n",
    "data = df[df['occyp_type'] == ans]\n",
    "\n",
    "print(ans)\n",
    "        \n",
    "data.groupby('income_percentile')['child_num'].mean().plot(kind = 'bar')\n",
    "plt.ylim(0, 1)\n",
    "plt.xlabel('income percentile')\n",
    "plt.ylabel('# of Child')\n",
    "plt.title('Managers')"
   ]
  },
  {
   "cell_type": "markdown",
   "id": "f1d2ebb9",
   "metadata": {},
   "source": [
    "#### (8) Medicine staff"
   ]
  },
  {
   "cell_type": "code",
   "execution_count": 40,
   "id": "e4eb8f8d",
   "metadata": {},
   "outputs": [
    {
     "name": "stdout",
     "output_type": "stream",
     "text": [
      "Medicine staff\n"
     ]
    },
    {
     "data": {
      "text/plain": [
       "Text(0.5, 1.0, 'Medicine staff')"
      ]
     },
     "execution_count": 40,
     "metadata": {},
     "output_type": "execute_result"
    },
    {
     "data": {
      "image/png": "[encoded data removed]",
      "text/plain": [
       "<Figure size 432x288 with 1 Axes>"
      ]
     },
     "metadata": {
      "needs_background": "light"
     },
     "output_type": "display_data"
    }
   ],
   "source": [
    "ans =  occyp_list[7]\n",
    "        \n",
    "data = df[df['occyp_type'] == ans]\n",
    "\n",
    "print(ans)\n",
    "        \n",
    "data.groupby('income_percentile')['car'].mean().plot(kind = 'bar')\n",
    "plt.ylim(0, 1)\n",
    "plt.xlabel('income percentile')\n",
    "plt.ylabel('Probability of owning car')\n",
    "plt.title('Medicine staff')"
   ]
  },
  {
   "cell_type": "code",
   "execution_count": 41,
   "id": "00d62e43",
   "metadata": {},
   "outputs": [
    {
     "name": "stdout",
     "output_type": "stream",
     "text": [
      "Medicine staff\n"
     ]
    },
    {
     "data": {
      "text/plain": [
       "Text(0.5, 1.0, 'Medicine staff')"
      ]
     },
     "execution_count": 41,
     "metadata": {},
     "output_type": "execute_result"
    },
    {
     "data": {
      "image/png": "[encoded data removed]",
      "text/plain": [
       "<Figure size 432x288 with 1 Axes>"
      ]
     },
     "metadata": {
      "needs_background": "light"
     },
     "output_type": "display_data"
    }
   ],
   "source": [
    "ans =  occyp_list[7] \n",
    "        \n",
    "data = df[df['occyp_type'] == ans]\n",
    "\n",
    "print(ans)\n",
    "        \n",
    "data.groupby('income_percentile')['START_EMPLOYED'].mean().plot(kind = 'bar')\n",
    "plt.ylim(10000, 14000)\n",
    "plt.xlabel('income percentile')\n",
    "plt.ylabel('Start_Employed')\n",
    "plt.title('Medicine staff')"
   ]
  },
  {
   "cell_type": "code",
   "execution_count": 42,
   "id": "912834c7",
   "metadata": {
    "scrolled": false
   },
   "outputs": [
    {
     "name": "stdout",
     "output_type": "stream",
     "text": [
      "Medicine staff\n"
     ]
    },
    {
     "data": {
      "text/plain": [
       "Text(0.5, 1.0, 'Medicine staff')"
      ]
     },
     "execution_count": 42,
     "metadata": {},
     "output_type": "execute_result"
    },
    {
     "data": {
      "image/png": "[encoded data removed]",
      "text/plain": [
       "<Figure size 432x288 with 1 Axes>"
      ]
     },
     "metadata": {
      "needs_background": "light"
     },
     "output_type": "display_data"
    }
   ],
   "source": [
    "ans =  occyp_list[7] \n",
    "        \n",
    "data = df[df['occyp_type'] == ans]\n",
    "\n",
    "print(ans)\n",
    "        \n",
    "data.groupby('income_percentile')['Counts'].mean().plot(kind = 'bar')\n",
    "plt.ylim(1, 5)\n",
    "plt.xlabel('income percentile')\n",
    "plt.ylabel('# of Card issue')\n",
    "plt.title('Medicine staff')"
   ]
  },
  {
   "cell_type": "code",
   "execution_count": 43,
   "id": "305b37b4",
   "metadata": {
    "scrolled": true
   },
   "outputs": [
    {
     "name": "stdout",
     "output_type": "stream",
     "text": [
      "Medicine staff\n"
     ]
    },
    {
     "data": {
      "text/plain": [
       "Text(0.5, 1.0, 'Medicine staff')"
      ]
     },
     "execution_count": 43,
     "metadata": {},
     "output_type": "execute_result"
    },
    {
     "data": {
      "image/png": "[encoded data removed]",
      "text/plain": [
       "<Figure size 432x288 with 1 Axes>"
      ]
     },
     "metadata": {
      "needs_background": "light"
     },
     "output_type": "display_data"
    }
   ],
   "source": [
    "ans =  occyp_list[7] \n",
    "        \n",
    "data = df[df['occyp_type'] == ans]\n",
    "\n",
    "print(ans)\n",
    "        \n",
    "data.groupby('income_percentile')['child_num'].mean().plot(kind = 'bar')\n",
    "plt.ylim(0, 1)\n",
    "plt.xlabel('income percentile')\n",
    "plt.ylabel('# of Child')\n",
    "plt.title('Medicine staff')"
   ]
  },
  {
   "cell_type": "markdown",
   "id": "ddb4e307",
   "metadata": {},
   "source": [
    "#### (9) Pensioner_etc"
   ]
  },
  {
   "cell_type": "code",
   "execution_count": 44,
   "id": "527e4ca9",
   "metadata": {},
   "outputs": [
    {
     "name": "stdout",
     "output_type": "stream",
     "text": [
      "Pensioner_etc\n"
     ]
    },
    {
     "data": {
      "text/plain": [
       "Text(0.5, 1.0, 'Pensioner_etc')"
      ]
     },
     "execution_count": 44,
     "metadata": {},
     "output_type": "execute_result"
    },
    {
     "data": {
      "image/png": "[encoded data removed]",
      "text/plain": [
       "<Figure size 432x288 with 1 Axes>"
      ]
     },
     "metadata": {
      "needs_background": "light"
     },
     "output_type": "display_data"
    }
   ],
   "source": [
    "ans =  occyp_list[8]\n",
    "        \n",
    "data = df[df['occyp_type'] == ans]\n",
    "\n",
    "print(ans)\n",
    "        \n",
    "data.groupby('income_percentile')['car'].mean().plot(kind = 'bar')\n",
    "plt.ylim(0, 1)\n",
    "plt.xlabel('income percentile')\n",
    "plt.ylabel('Probability of owning car')\n",
    "plt.title('Pensioner_etc')"
   ]
  },
  {
   "cell_type": "code",
   "execution_count": 45,
   "id": "621c0ad0",
   "metadata": {
    "scrolled": true
   },
   "outputs": [
    {
     "name": "stdout",
     "output_type": "stream",
     "text": [
      "Pensioner_etc\n"
     ]
    },
    {
     "data": {
      "text/plain": [
       "Text(0.5, 1.0, 'Pensioner_etc')"
      ]
     },
     "execution_count": 45,
     "metadata": {},
     "output_type": "execute_result"
    },
    {
     "data": {
      "image/png": "[encoded data removed]",
      "text/plain": [
       "<Figure size 432x288 with 1 Axes>"
      ]
     },
     "metadata": {
      "needs_background": "light"
     },
     "output_type": "display_data"
    }
   ],
   "source": [
    "ans =  occyp_list[8] \n",
    "        \n",
    "data = df[df['occyp_type'] == ans]\n",
    "\n",
    "print(ans)\n",
    "        \n",
    "data.groupby('income_percentile')['START_EMPLOYED'].mean().plot(kind = 'bar')\n",
    "plt.ylim(10000, 22000)\n",
    "plt.xlabel('income percentile')\n",
    "plt.ylabel('Start_Employed')\n",
    "plt.title('Pensioner_etc')"
   ]
  },
  {
   "cell_type": "code",
   "execution_count": 46,
   "id": "9ca1850a",
   "metadata": {
    "scrolled": true
   },
   "outputs": [
    {
     "name": "stdout",
     "output_type": "stream",
     "text": [
      "Pensioner_etc\n"
     ]
    },
    {
     "data": {
      "text/plain": [
       "Text(0.5, 1.0, 'Pensioner_etc')"
      ]
     },
     "execution_count": 46,
     "metadata": {},
     "output_type": "execute_result"
    },
    {
     "data": {
      "image/png": "[encoded data removed]",
      "text/plain": [
       "<Figure size 432x288 with 1 Axes>"
      ]
     },
     "metadata": {
      "needs_background": "light"
     },
     "output_type": "display_data"
    }
   ],
   "source": [
    "ans =  occyp_list[8] \n",
    "        \n",
    "data = df[df['occyp_type'] == ans]\n",
    "\n",
    "print(ans)\n",
    "        \n",
    "data.groupby('income_percentile')['Counts'].mean().plot(kind = 'bar')\n",
    "plt.ylim(0, 5)\n",
    "plt.xlabel('income percentile')\n",
    "plt.ylabel('# of Card issue')\n",
    "plt.title('Pensioner_etc')"
   ]
  },
  {
   "cell_type": "code",
   "execution_count": 47,
   "id": "9d2482e1",
   "metadata": {
    "scrolled": true
   },
   "outputs": [
    {
     "name": "stdout",
     "output_type": "stream",
     "text": [
      "Pensioner_etc\n"
     ]
    },
    {
     "data": {
      "text/plain": [
       "Text(0.5, 1.0, 'Pensioner_etc')"
      ]
     },
     "execution_count": 47,
     "metadata": {},
     "output_type": "execute_result"
    },
    {
     "data": {
      "image/png": "[encoded data removed]",
      "text/plain": [
       "<Figure size 432x288 with 1 Axes>"
      ]
     },
     "metadata": {
      "needs_background": "light"
     },
     "output_type": "display_data"
    }
   ],
   "source": [
    "ans =  occyp_list[8] \n",
    "        \n",
    "data = df[df['occyp_type'] == ans]\n",
    "\n",
    "print(ans)\n",
    "        \n",
    "data.groupby('income_percentile')['child_num'].mean().plot(kind = 'bar')\n",
    "plt.ylim(0, 1)\n",
    "plt.xlabel('income percentile')\n",
    "plt.ylabel('# of Child')\n",
    "plt.title('Pensioner_etc')"
   ]
  },
  {
   "cell_type": "markdown",
   "id": "8dab6324",
   "metadata": {},
   "source": [
    "#### (10) Private service staff"
   ]
  },
  {
   "cell_type": "code",
   "execution_count": 48,
   "id": "6536d86f",
   "metadata": {},
   "outputs": [
    {
     "name": "stdout",
     "output_type": "stream",
     "text": [
      "Private service staff\n"
     ]
    },
    {
     "data": {
      "text/plain": [
       "Text(0.5, 1.0, 'Private service staff')"
      ]
     },
     "execution_count": 48,
     "metadata": {},
     "output_type": "execute_result"
    },
    {
     "data": {
      "image/png": "[encoded data removed]",
      "text/plain": [
       "<Figure size 432x288 with 1 Axes>"
      ]
     },
     "metadata": {
      "needs_background": "light"
     },
     "output_type": "display_data"
    }
   ],
   "source": [
    "ans =  occyp_list[9]\n",
    "        \n",
    "data = df[df['occyp_type'] == ans]\n",
    "\n",
    "print(ans)\n",
    "        \n",
    "data.groupby('income_percentile')['car'].mean().plot(kind = 'bar')\n",
    "plt.ylim(0, 1)\n",
    "plt.xlabel('income percentile')\n",
    "plt.ylabel('Probability of owning car')\n",
    "plt.title('Private service staff')"
   ]
  },
  {
   "cell_type": "code",
   "execution_count": 49,
   "id": "980eb5f1",
   "metadata": {},
   "outputs": [
    {
     "name": "stdout",
     "output_type": "stream",
     "text": [
      "Private service staff\n"
     ]
    },
    {
     "data": {
      "text/plain": [
       "Text(0.5, 1.0, 'Private service staff')"
      ]
     },
     "execution_count": 49,
     "metadata": {},
     "output_type": "execute_result"
    },
    {
     "data": {
      "image/png": "[encoded data removed]",
      "text/plain": [
       "<Figure size 432x288 with 1 Axes>"
      ]
     },
     "metadata": {
      "needs_background": "light"
     },
     "output_type": "display_data"
    }
   ],
   "source": [
    "ans =  occyp_list[9] \n",
    "        \n",
    "data = df[df['occyp_type'] == ans]\n",
    "\n",
    "print(ans)\n",
    "        \n",
    "data.groupby('income_percentile')['START_EMPLOYED'].mean().plot(kind = 'bar')\n",
    "plt.ylim(10000, 15000)\n",
    "plt.xlabel('income percentile')\n",
    "plt.ylabel('Start_Employed')\n",
    "plt.title('Private service staff')"
   ]
  },
  {
   "cell_type": "code",
   "execution_count": 50,
   "id": "d92184fb",
   "metadata": {
    "scrolled": true
   },
   "outputs": [
    {
     "name": "stdout",
     "output_type": "stream",
     "text": [
      "Private service staff\n"
     ]
    },
    {
     "data": {
      "text/plain": [
       "Text(0.5, 1.0, 'Private service staff')"
      ]
     },
     "execution_count": 50,
     "metadata": {},
     "output_type": "execute_result"
    },
    {
     "data": {
      "image/png": "[encoded data removed]",
      "text/plain": [
       "<Figure size 432x288 with 1 Axes>"
      ]
     },
     "metadata": {
      "needs_background": "light"
     },
     "output_type": "display_data"
    }
   ],
   "source": [
    "ans =  occyp_list[9] \n",
    "        \n",
    "data = df[df['occyp_type'] == ans]\n",
    "\n",
    "print(ans)\n",
    "        \n",
    "data.groupby('income_percentile')['Counts'].mean().plot(kind = 'bar')\n",
    "plt.ylim(0 , 5)\n",
    "plt.xlabel('income percentile')\n",
    "plt.ylabel('# of Card issue')\n",
    "plt.title('Private service staff')"
   ]
  },
  {
   "cell_type": "code",
   "execution_count": 51,
   "id": "9af42e20",
   "metadata": {
    "scrolled": true
   },
   "outputs": [
    {
     "name": "stdout",
     "output_type": "stream",
     "text": [
      "Private service staff\n"
     ]
    },
    {
     "data": {
      "text/plain": [
       "Text(0.5, 1.0, 'Private service staff')"
      ]
     },
     "execution_count": 51,
     "metadata": {},
     "output_type": "execute_result"
    },
    {
     "data": {
      "image/png": "[encoded data removed]",
      "text/plain": [
       "<Figure size 432x288 with 1 Axes>"
      ]
     },
     "metadata": {
      "needs_background": "light"
     },
     "output_type": "display_data"
    }
   ],
   "source": [
    "ans =  occyp_list[9] \n",
    "        \n",
    "data = df[df['occyp_type'] == ans]\n",
    "\n",
    "print(ans)\n",
    "        \n",
    "data.groupby('income_percentile')['child_num'].mean().plot(kind = 'bar')\n",
    "plt.ylim(0, 3)\n",
    "plt.xlabel('income percentile')\n",
    "plt.ylabel('# of Child')\n",
    "plt.title('Private service staff')"
   ]
  },
  {
   "cell_type": "markdown",
   "id": "9af996ed",
   "metadata": {},
   "source": [
    "#### (11) Realty agents"
   ]
  },
  {
   "cell_type": "code",
   "execution_count": 52,
   "id": "0be09a63",
   "metadata": {},
   "outputs": [
    {
     "name": "stdout",
     "output_type": "stream",
     "text": [
      "Realty agents\n"
     ]
    },
    {
     "data": {
      "text/plain": [
       "Text(0.5, 1.0, 'Realty agents')"
      ]
     },
     "execution_count": 52,
     "metadata": {},
     "output_type": "execute_result"
    },
    {
     "data": {
      "image/png": "[encoded data removed]",
      "text/plain": [
       "<Figure size 432x288 with 1 Axes>"
      ]
     },
     "metadata": {
      "needs_background": "light"
     },
     "output_type": "display_data"
    }
   ],
   "source": [
    "ans =  occyp_list[10]\n",
    "        \n",
    "data = df[df['occyp_type'] == ans]\n",
    "\n",
    "print(ans)\n",
    "        \n",
    "data.groupby('income_percentile')['car'].mean().plot(kind = 'bar')\n",
    "plt.ylim(0, 1)\n",
    "plt.xlabel('income percentile')\n",
    "plt.ylabel('Probability of owning car')\n",
    "plt.title('Realty agents')"
   ]
  },
  {
   "cell_type": "code",
   "execution_count": 100,
   "id": "fc166bd4",
   "metadata": {},
   "outputs": [
    {
     "name": "stdout",
     "output_type": "stream",
     "text": [
      "Realty agents\n"
     ]
    },
    {
     "data": {
      "text/plain": [
       "Text(0.5, 1.0, 'Realty agents')"
      ]
     },
     "execution_count": 100,
     "metadata": {},
     "output_type": "execute_result"
    },
    {
     "data": {
      "image/png": "[encoded data removed]",
      "text/plain": [
       "<Figure size 432x288 with 1 Axes>"
      ]
     },
     "metadata": {},
     "output_type": "display_data"
    }
   ],
   "source": [
    "ans =  occyp_list[10] \n",
    "        \n",
    "data = df[df['occyp_type'] == ans]\n",
    "\n",
    "print(ans)\n",
    "        \n",
    "data.groupby('income_percentile')['START_EMPLOYED'].mean().plot(kind = 'bar')\n",
    "plt.ylim(8000, 15000)\n",
    "plt.xlabel('income percentile')\n",
    "plt.ylabel('Start_Employed')\n",
    "plt.title('Realty agents')"
   ]
  },
  {
   "cell_type": "code",
   "execution_count": 54,
   "id": "f356135e",
   "metadata": {
    "scrolled": true
   },
   "outputs": [
    {
     "name": "stdout",
     "output_type": "stream",
     "text": [
      "Realty agents\n"
     ]
    },
    {
     "data": {
      "text/plain": [
       "Text(0.5, 1.0, 'Realty agents')"
      ]
     },
     "execution_count": 54,
     "metadata": {},
     "output_type": "execute_result"
    },
    {
     "data": {
      "image/png": "[encoded data removed]",
      "text/plain": [
       "<Figure size 432x288 with 1 Axes>"
      ]
     },
     "metadata": {
      "needs_background": "light"
     },
     "output_type": "display_data"
    }
   ],
   "source": [
    "ans =  occyp_list[10] \n",
    "        \n",
    "data = df[df['occyp_type'] == ans]\n",
    "\n",
    "print(ans)\n",
    "        \n",
    "data.groupby('income_percentile')['Counts'].mean().plot(kind = 'bar')\n",
    "plt.ylim(0, 9)\n",
    "plt.xlabel('income percentile')\n",
    "plt.ylabel('# of Card issue')\n",
    "plt.title('Realty agents')"
   ]
  },
  {
   "cell_type": "code",
   "execution_count": 55,
   "id": "1f3853ea",
   "metadata": {
    "scrolled": true
   },
   "outputs": [
    {
     "name": "stdout",
     "output_type": "stream",
     "text": [
      "Realty agents\n"
     ]
    },
    {
     "data": {
      "text/plain": [
       "Text(0.5, 1.0, 'Realty agents')"
      ]
     },
     "execution_count": 55,
     "metadata": {},
     "output_type": "execute_result"
    },
    {
     "data": {
      "image/png": "[encoded data removed]",
      "text/plain": [
       "<Figure size 432x288 with 1 Axes>"
      ]
     },
     "metadata": {
      "needs_background": "light"
     },
     "output_type": "display_data"
    }
   ],
   "source": [
    "ans =  occyp_list[10] \n",
    "        \n",
    "data = df[df['occyp_type'] == ans]\n",
    "\n",
    "print(ans)\n",
    "        \n",
    "data.groupby('income_percentile')['child_num'].mean().plot(kind = 'bar')\n",
    "plt.ylim(0, 2)\n",
    "plt.xlabel('income percentile')\n",
    "plt.ylabel('# of Child')\n",
    "plt.title('Realty agents')"
   ]
  },
  {
   "cell_type": "markdown",
   "id": "ecee6855",
   "metadata": {},
   "source": [
    "#### (12) Sales staff"
   ]
  },
  {
   "cell_type": "code",
   "execution_count": 56,
   "id": "500c69a7",
   "metadata": {},
   "outputs": [
    {
     "name": "stdout",
     "output_type": "stream",
     "text": [
      "Sales staff\n"
     ]
    },
    {
     "data": {
      "text/plain": [
       "Text(0.5, 1.0, 'Sales staff')"
      ]
     },
     "execution_count": 56,
     "metadata": {},
     "output_type": "execute_result"
    },
    {
     "data": {
      "image/png": "[encoded data removed]",
      "text/plain": [
       "<Figure size 432x288 with 1 Axes>"
      ]
     },
     "metadata": {
      "needs_background": "light"
     },
     "output_type": "display_data"
    }
   ],
   "source": [
    "ans =  occyp_list[11]\n",
    "        \n",
    "data = df[df['occyp_type'] == ans]\n",
    "\n",
    "print(ans)\n",
    "        \n",
    "data.groupby('income_percentile')['car'].mean().plot(kind = 'bar')\n",
    "plt.ylim(0, 1)\n",
    "plt.xlabel('income percentile')\n",
    "plt.ylabel('Probability of owning car')\n",
    "plt.title('Sales staff')"
   ]
  },
  {
   "cell_type": "code",
   "execution_count": 57,
   "id": "ba527423",
   "metadata": {},
   "outputs": [
    {
     "name": "stdout",
     "output_type": "stream",
     "text": [
      "Sales staff\n"
     ]
    },
    {
     "data": {
      "text/plain": [
       "Text(0.5, 1.0, 'Sales staff')"
      ]
     },
     "execution_count": 57,
     "metadata": {},
     "output_type": "execute_result"
    },
    {
     "data": {
      "image/png": "[encoded data removed]",
      "text/plain": [
       "<Figure size 432x288 with 1 Axes>"
      ]
     },
     "metadata": {
      "needs_background": "light"
     },
     "output_type": "display_data"
    }
   ],
   "source": [
    "ans =  occyp_list[11] \n",
    "        \n",
    "data = df[df['occyp_type'] == ans]\n",
    "\n",
    "print(ans)\n",
    "        \n",
    "data.groupby('income_percentile')['START_EMPLOYED'].mean().plot(kind = 'bar')\n",
    "plt.ylim(10000, 15000)\n",
    "plt.xlabel('income percentile')\n",
    "plt.ylabel('Start_Employed')\n",
    "plt.title('Sales staff')"
   ]
  },
  {
   "cell_type": "code",
   "execution_count": 58,
   "id": "f097cb45",
   "metadata": {
    "scrolled": true
   },
   "outputs": [
    {
     "name": "stdout",
     "output_type": "stream",
     "text": [
      "Sales staff\n"
     ]
    },
    {
     "data": {
      "text/plain": [
       "Text(0.5, 1.0, 'Sales staff')"
      ]
     },
     "execution_count": 58,
     "metadata": {},
     "output_type": "execute_result"
    },
    {
     "data": {
      "image/png": "[encoded data removed]",
      "text/plain": [
       "<Figure size 432x288 with 1 Axes>"
      ]
     },
     "metadata": {
      "needs_background": "light"
     },
     "output_type": "display_data"
    }
   ],
   "source": [
    "ans =  occyp_list[11] \n",
    "        \n",
    "data = df[df['occyp_type'] == ans]\n",
    "\n",
    "print(ans)\n",
    "        \n",
    "data.groupby('income_percentile')['Counts'].mean().plot(kind = 'bar')\n",
    "plt.ylim(1, 5)\n",
    "plt.xlabel('income percentile')\n",
    "plt.ylabel('# of Card issue')\n",
    "plt.title('Sales staff')"
   ]
  },
  {
   "cell_type": "code",
   "execution_count": 59,
   "id": "44475aa7",
   "metadata": {
    "scrolled": true
   },
   "outputs": [
    {
     "name": "stdout",
     "output_type": "stream",
     "text": [
      "Sales staff\n"
     ]
    },
    {
     "data": {
      "text/plain": [
       "Text(0.5, 1.0, 'Sales staff')"
      ]
     },
     "execution_count": 59,
     "metadata": {},
     "output_type": "execute_result"
    },
    {
     "data": {
      "image/png": "[encoded data removed]",
      "text/plain": [
       "<Figure size 432x288 with 1 Axes>"
      ]
     },
     "metadata": {
      "needs_background": "light"
     },
     "output_type": "display_data"
    }
   ],
   "source": [
    "ans =  occyp_list[11] \n",
    "        \n",
    "data = df[df['occyp_type'] == ans]\n",
    "\n",
    "print(ans)\n",
    "        \n",
    "data.groupby('income_percentile')['child_num'].mean().plot(kind = 'bar')\n",
    "plt.ylim(0, 1)\n",
    "plt.xlabel('income percentile')\n",
    "plt.ylabel('# of Child')\n",
    "plt.title('Sales staff')"
   ]
  },
  {
   "cell_type": "markdown",
   "id": "cc6070f3",
   "metadata": {},
   "source": [
    "### 2. 상관관계 파악"
   ]
  },
  {
   "cell_type": "markdown",
   "id": "0c22eedd",
   "metadata": {},
   "source": [
    "#### (1) 연속형 변수"
   ]
  },
  {
   "cell_type": "code",
   "execution_count": 60,
   "id": "c87fcd6f",
   "metadata": {},
   "outputs": [
    {
     "name": "stdout",
     "output_type": "stream",
     "text": [
      "<class 'pandas.core.frame.DataFrame'>\n",
      "RangeIndex: 8759 entries, 0 to 8758\n",
      "Data columns (total 23 columns):\n",
      " #   Column             Non-Null Count  Dtype  \n",
      "---  ------             --------------  -----  \n",
      " 0   ID                 8759 non-null   object \n",
      " 1   Counts             8759 non-null   int64  \n",
      " 2   gender             8759 non-null   int64  \n",
      " 3   car                8759 non-null   int64  \n",
      " 4   reality            8759 non-null   int64  \n",
      " 5   child_num          8759 non-null   int64  \n",
      " 6   income_total       8759 non-null   float64\n",
      " 7   income_type        8759 non-null   object \n",
      " 8   edu_type           8759 non-null   object \n",
      " 9   family_type        8759 non-null   object \n",
      " 10  house_type         8759 non-null   object \n",
      " 11  DAYS_BIRTH         8759 non-null   int64  \n",
      " 12  DAYS_EMPLOYED      8759 non-null   int64  \n",
      " 13  START_EMPLOYED     8759 non-null   int64  \n",
      " 14  work_phone         8759 non-null   int64  \n",
      " 15  phone              8759 non-null   int64  \n",
      " 16  email              8759 non-null   int64  \n",
      " 17  occyp_type         8759 non-null   object \n",
      " 18  family_size        8759 non-null   int64  \n",
      " 19  income_percentile  8759 non-null   int64  \n",
      " 20  income_quantile    8759 non-null   int64  \n",
      " 21  credit_avg         8759 non-null   float64\n",
      " 22  child_num_group    8759 non-null   int64  \n",
      "dtypes: float64(2), int64(15), object(6)\n",
      "memory usage: 1.5+ MB\n"
     ]
    }
   ],
   "source": [
    "df.info()"
   ]
  },
  {
   "cell_type": "code",
   "execution_count": 61,
   "id": "16f77751",
   "metadata": {},
   "outputs": [
    {
     "data": {
      "text/html": [
       "<div>\n",
       "<style scoped>\n",
       "    .dataframe tbody tr th:only-of-type {\n",
       "        vertical-align: middle;\n",
       "    }\n",
       "\n",
       "    .dataframe tbody tr th {\n",
       "        vertical-align: top;\n",
       "    }\n",
       "\n",
       "    .dataframe thead th {\n",
       "        text-align: right;\n",
       "    }\n",
       "</style>\n",
       "<table border=\"1\" class=\"dataframe\">\n",
       "  <thead>\n",
       "    <tr style=\"text-align: right;\">\n",
       "      <th></th>\n",
       "      <th>Counts</th>\n",
       "      <th>child_num</th>\n",
       "      <th>income_total</th>\n",
       "      <th>DAYS_BIRTH</th>\n",
       "      <th>DAYS_EMPLOYED</th>\n",
       "      <th>START_EMPLOYED</th>\n",
       "      <th>family_size</th>\n",
       "      <th>credit_avg</th>\n",
       "    </tr>\n",
       "  </thead>\n",
       "  <tbody>\n",
       "    <tr>\n",
       "      <th>0</th>\n",
       "      <td>5</td>\n",
       "      <td>0</td>\n",
       "      <td>202500.0</td>\n",
       "      <td>13899</td>\n",
       "      <td>4709</td>\n",
       "      <td>9190</td>\n",
       "      <td>2</td>\n",
       "      <td>1.600000</td>\n",
       "    </tr>\n",
       "    <tr>\n",
       "      <th>1</th>\n",
       "      <td>9</td>\n",
       "      <td>1</td>\n",
       "      <td>247500.0</td>\n",
       "      <td>11380</td>\n",
       "      <td>1540</td>\n",
       "      <td>9840</td>\n",
       "      <td>3</td>\n",
       "      <td>0.555556</td>\n",
       "    </tr>\n",
       "    <tr>\n",
       "      <th>2</th>\n",
       "      <td>6</td>\n",
       "      <td>0</td>\n",
       "      <td>450000.0</td>\n",
       "      <td>19087</td>\n",
       "      <td>4434</td>\n",
       "      <td>14653</td>\n",
       "      <td>2</td>\n",
       "      <td>1.833333</td>\n",
       "    </tr>\n",
       "    <tr>\n",
       "      <th>3</th>\n",
       "      <td>2</td>\n",
       "      <td>0</td>\n",
       "      <td>202500.0</td>\n",
       "      <td>15088</td>\n",
       "      <td>2092</td>\n",
       "      <td>12996</td>\n",
       "      <td>2</td>\n",
       "      <td>1.000000</td>\n",
       "    </tr>\n",
       "    <tr>\n",
       "      <th>4</th>\n",
       "      <td>1</td>\n",
       "      <td>0</td>\n",
       "      <td>157500.0</td>\n",
       "      <td>15037</td>\n",
       "      <td>2105</td>\n",
       "      <td>12932</td>\n",
       "      <td>2</td>\n",
       "      <td>2.000000</td>\n",
       "    </tr>\n",
       "    <tr>\n",
       "      <th>...</th>\n",
       "      <td>...</td>\n",
       "      <td>...</td>\n",
       "      <td>...</td>\n",
       "      <td>...</td>\n",
       "      <td>...</td>\n",
       "      <td>...</td>\n",
       "      <td>...</td>\n",
       "      <td>...</td>\n",
       "    </tr>\n",
       "    <tr>\n",
       "      <th>8754</th>\n",
       "      <td>1</td>\n",
       "      <td>0</td>\n",
       "      <td>225000.0</td>\n",
       "      <td>10338</td>\n",
       "      <td>581</td>\n",
       "      <td>9757</td>\n",
       "      <td>1</td>\n",
       "      <td>2.000000</td>\n",
       "    </tr>\n",
       "    <tr>\n",
       "      <th>8755</th>\n",
       "      <td>1</td>\n",
       "      <td>1</td>\n",
       "      <td>180000.0</td>\n",
       "      <td>15291</td>\n",
       "      <td>2475</td>\n",
       "      <td>12816</td>\n",
       "      <td>2</td>\n",
       "      <td>2.000000</td>\n",
       "    </tr>\n",
       "    <tr>\n",
       "      <th>8756</th>\n",
       "      <td>1</td>\n",
       "      <td>0</td>\n",
       "      <td>292500.0</td>\n",
       "      <td>10082</td>\n",
       "      <td>2015</td>\n",
       "      <td>8067</td>\n",
       "      <td>2</td>\n",
       "      <td>2.000000</td>\n",
       "    </tr>\n",
       "    <tr>\n",
       "      <th>8757</th>\n",
       "      <td>1</td>\n",
       "      <td>0</td>\n",
       "      <td>171000.0</td>\n",
       "      <td>10145</td>\n",
       "      <td>107</td>\n",
       "      <td>10038</td>\n",
       "      <td>1</td>\n",
       "      <td>2.000000</td>\n",
       "    </tr>\n",
       "    <tr>\n",
       "      <th>8758</th>\n",
       "      <td>1</td>\n",
       "      <td>0</td>\n",
       "      <td>81000.0</td>\n",
       "      <td>19569</td>\n",
       "      <td>1013</td>\n",
       "      <td>18556</td>\n",
       "      <td>2</td>\n",
       "      <td>2.000000</td>\n",
       "    </tr>\n",
       "  </tbody>\n",
       "</table>\n",
       "<p>8759 rows × 8 columns</p>\n",
       "</div>"
      ],
      "text/plain": [
       "      Counts  child_num  income_total  DAYS_BIRTH  DAYS_EMPLOYED  \\\n",
       "0          5          0      202500.0       13899           4709   \n",
       "1          9          1      247500.0       11380           1540   \n",
       "2          6          0      450000.0       19087           4434   \n",
       "3          2          0      202500.0       15088           2092   \n",
       "4          1          0      157500.0       15037           2105   \n",
       "...      ...        ...           ...         ...            ...   \n",
       "8754       1          0      225000.0       10338            581   \n",
       "8755       1          1      180000.0       15291           2475   \n",
       "8756       1          0      292500.0       10082           2015   \n",
       "8757       1          0      171000.0       10145            107   \n",
       "8758       1          0       81000.0       19569           1013   \n",
       "\n",
       "      START_EMPLOYED  family_size  credit_avg  \n",
       "0               9190            2    1.600000  \n",
       "1               9840            3    0.555556  \n",
       "2              14653            2    1.833333  \n",
       "3              12996            2    1.000000  \n",
       "4              12932            2    2.000000  \n",
       "...              ...          ...         ...  \n",
       "8754            9757            1    2.000000  \n",
       "8755           12816            2    2.000000  \n",
       "8756            8067            2    2.000000  \n",
       "8757           10038            1    2.000000  \n",
       "8758           18556            2    2.000000  \n",
       "\n",
       "[8759 rows x 8 columns]"
      ]
     },
     "execution_count": 61,
     "metadata": {},
     "output_type": "execute_result"
    }
   ],
   "source": [
    "연속 = df[['Counts' , 'child_num' , 'income_total' , 'DAYS_BIRTH' , 'DAYS_EMPLOYED' , 'START_EMPLOYED' , 'family_size' , 'credit_avg' ]]\n",
    "\n",
    "연속"
   ]
  },
  {
   "cell_type": "code",
   "execution_count": 62,
   "id": "bb7f4e74",
   "metadata": {},
   "outputs": [
    {
     "data": {
      "text/plain": [
       "<AxesSubplot:>"
      ]
     },
     "execution_count": 62,
     "metadata": {},
     "output_type": "execute_result"
    },
    {
     "data": {
      "image/png": "[encoded data removed]",
      "text/plain": [
       "<Figure size 720x720 with 2 Axes>"
      ]
     },
     "metadata": {
      "needs_background": "light"
     },
     "output_type": "display_data"
    }
   ],
   "source": [
    "plt.figure(figsize=(10,10))\n",
    "\n",
    "\n",
    "plt.rc(\"font\", family = \"Malgun Gothic\")\n",
    "sns.set(font=\"Malgun Gothic\", \n",
    "rc={\"axes.unicode_minus\":False}, style='darkgrid')\n",
    "\n",
    "\n",
    "sns.heatmap(data = 연속.corr(), annot=True, \n",
    "fmt = '.2f', linewidths=.5, cmap='Blues')"
   ]
  },
  {
   "cell_type": "markdown",
   "id": "6d2e1820",
   "metadata": {},
   "source": [
    "### 2. income_type 관련"
   ]
  },
  {
   "cell_type": "code",
   "execution_count": 4,
   "id": "6bc536f7",
   "metadata": {},
   "outputs": [
    {
     "name": "stdout",
     "output_type": "stream",
     "text": [
      "상위 40 % :  3147\n",
      "하위 40 % :  3809\n"
     ]
    }
   ],
   "source": [
    "high_income = df[df['income_percentile'] >= 7]\n",
    "low_income = df[df['income_percentile'] <= 4]\n",
    "\n",
    "# 10개 분위로 쪼갰는데 왜 개수가 다를까?\n",
    "print('상위 40 % : ' ,len(high_income))\n",
    "print('하위 40 % : ' ,len(low_income))"
   ]
  },
  {
   "cell_type": "code",
   "execution_count": 64,
   "id": "0a8003da",
   "metadata": {},
   "outputs": [
    {
     "data": {
      "text/html": [
       "<div>\n",
       "<style scoped>\n",
       "    .dataframe tbody tr th:only-of-type {\n",
       "        vertical-align: middle;\n",
       "    }\n",
       "\n",
       "    .dataframe tbody tr th {\n",
       "        vertical-align: top;\n",
       "    }\n",
       "\n",
       "    .dataframe thead th {\n",
       "        text-align: right;\n",
       "    }\n",
       "</style>\n",
       "<table border=\"1\" class=\"dataframe\">\n",
       "  <thead>\n",
       "    <tr style=\"text-align: right;\">\n",
       "      <th></th>\n",
       "      <th>Low_income_credit_avg</th>\n",
       "    </tr>\n",
       "    <tr>\n",
       "      <th>income_type</th>\n",
       "      <th></th>\n",
       "    </tr>\n",
       "  </thead>\n",
       "  <tbody>\n",
       "    <tr>\n",
       "      <th>Commercial associate</th>\n",
       "      <td>1.531395</td>\n",
       "    </tr>\n",
       "    <tr>\n",
       "      <th>Pensioner</th>\n",
       "      <td>1.555399</td>\n",
       "    </tr>\n",
       "    <tr>\n",
       "      <th>State servant</th>\n",
       "      <td>1.560387</td>\n",
       "    </tr>\n",
       "    <tr>\n",
       "      <th>Student</th>\n",
       "      <td>2.000000</td>\n",
       "    </tr>\n",
       "    <tr>\n",
       "      <th>Working</th>\n",
       "      <td>1.536193</td>\n",
       "    </tr>\n",
       "  </tbody>\n",
       "</table>\n",
       "</div>"
      ],
      "text/plain": [
       "                      Low_income_credit_avg\n",
       "income_type                                \n",
       "Commercial associate               1.531395\n",
       "Pensioner                          1.555399\n",
       "State servant                      1.560387\n",
       "Student                            2.000000\n",
       "Working                            1.536193"
      ]
     },
     "execution_count": 64,
     "metadata": {},
     "output_type": "execute_result"
    }
   ],
   "source": [
    "low_credit_avg = pd.DataFrame(low_income.groupby('income_type')['credit_avg'].mean())\n",
    "\n",
    "low_credit_avg = low_credit_avg.rename(columns = {'credit_avg' : 'Low_income_credit_avg'})\n",
    "\n",
    "low_credit_avg"
   ]
  },
  {
   "cell_type": "code",
   "execution_count": 65,
   "id": "2cdbc258",
   "metadata": {},
   "outputs": [
    {
     "data": {
      "text/html": [
       "<div>\n",
       "<style scoped>\n",
       "    .dataframe tbody tr th:only-of-type {\n",
       "        vertical-align: middle;\n",
       "    }\n",
       "\n",
       "    .dataframe tbody tr th {\n",
       "        vertical-align: top;\n",
       "    }\n",
       "\n",
       "    .dataframe thead th {\n",
       "        text-align: right;\n",
       "    }\n",
       "</style>\n",
       "<table border=\"1\" class=\"dataframe\">\n",
       "  <thead>\n",
       "    <tr style=\"text-align: right;\">\n",
       "      <th></th>\n",
       "      <th>High_income_credit_avg</th>\n",
       "    </tr>\n",
       "    <tr>\n",
       "      <th>income_type</th>\n",
       "      <th></th>\n",
       "    </tr>\n",
       "  </thead>\n",
       "  <tbody>\n",
       "    <tr>\n",
       "      <th>Commercial associate</th>\n",
       "      <td>1.566866</td>\n",
       "    </tr>\n",
       "    <tr>\n",
       "      <th>Pensioner</th>\n",
       "      <td>1.556680</td>\n",
       "    </tr>\n",
       "    <tr>\n",
       "      <th>State servant</th>\n",
       "      <td>1.551970</td>\n",
       "    </tr>\n",
       "    <tr>\n",
       "      <th>Working</th>\n",
       "      <td>1.550153</td>\n",
       "    </tr>\n",
       "  </tbody>\n",
       "</table>\n",
       "</div>"
      ],
      "text/plain": [
       "                      High_income_credit_avg\n",
       "income_type                                 \n",
       "Commercial associate                1.566866\n",
       "Pensioner                           1.556680\n",
       "State servant                       1.551970\n",
       "Working                             1.550153"
      ]
     },
     "execution_count": 65,
     "metadata": {},
     "output_type": "execute_result"
    }
   ],
   "source": [
    "high_credit_avg = pd.DataFrame(high_income.groupby('income_type')['credit_avg'].mean())\n",
    "\n",
    "high_credit_avg = high_credit_avg.rename(columns = {'credit_avg' : 'High_income_credit_avg'})\n",
    "\n",
    "high_credit_avg"
   ]
  },
  {
   "cell_type": "code",
   "execution_count": 67,
   "id": "2c87b211",
   "metadata": {},
   "outputs": [
    {
     "data": {
      "text/html": [
       "<div>\n",
       "<style scoped>\n",
       "    .dataframe tbody tr th:only-of-type {\n",
       "        vertical-align: middle;\n",
       "    }\n",
       "\n",
       "    .dataframe tbody tr th {\n",
       "        vertical-align: top;\n",
       "    }\n",
       "\n",
       "    .dataframe thead th {\n",
       "        text-align: right;\n",
       "    }\n",
       "</style>\n",
       "<table border=\"1\" class=\"dataframe\">\n",
       "  <thead>\n",
       "    <tr style=\"text-align: right;\">\n",
       "      <th></th>\n",
       "      <th>High_income_credit_avg</th>\n",
       "      <th>Low_income_credit_avg</th>\n",
       "    </tr>\n",
       "    <tr>\n",
       "      <th>income_type</th>\n",
       "      <th></th>\n",
       "      <th></th>\n",
       "    </tr>\n",
       "  </thead>\n",
       "  <tbody>\n",
       "    <tr>\n",
       "      <th>Commercial associate</th>\n",
       "      <td>1.566866</td>\n",
       "      <td>1.531395</td>\n",
       "    </tr>\n",
       "    <tr>\n",
       "      <th>Pensioner</th>\n",
       "      <td>1.556680</td>\n",
       "      <td>1.555399</td>\n",
       "    </tr>\n",
       "    <tr>\n",
       "      <th>State servant</th>\n",
       "      <td>1.551970</td>\n",
       "      <td>1.560387</td>\n",
       "    </tr>\n",
       "    <tr>\n",
       "      <th>Working</th>\n",
       "      <td>1.550153</td>\n",
       "      <td>1.536193</td>\n",
       "    </tr>\n",
       "  </tbody>\n",
       "</table>\n",
       "</div>"
      ],
      "text/plain": [
       "                      High_income_credit_avg  Low_income_credit_avg\n",
       "income_type                                                        \n",
       "Commercial associate                1.566866               1.531395\n",
       "Pensioner                           1.556680               1.555399\n",
       "State servant                       1.551970               1.560387\n",
       "Working                             1.550153               1.536193"
      ]
     },
     "execution_count": 67,
     "metadata": {},
     "output_type": "execute_result"
    }
   ],
   "source": [
    "income_credit_avg = pd.merge(high_credit_avg , low_credit_avg , on = 'income_type')\n",
    "\n",
    "income_credit_avg"
   ]
  },
  {
   "cell_type": "code",
   "execution_count": 68,
   "id": "2331a5b7",
   "metadata": {},
   "outputs": [
    {
     "data": {
      "text/plain": [
       "['Commercial associate', 'Pensioner', 'Working']"
      ]
     },
     "execution_count": 68,
     "metadata": {},
     "output_type": "execute_result"
    }
   ],
   "source": [
    "income_list = []\n",
    "\n",
    "for i in range(len(income_credit_avg)) :\n",
    "    \n",
    "    if income_credit_avg.iloc[i , 1] <= income_credit_avg.iloc[i , 0] :\n",
    "        \n",
    "        income_list.append(income_credit_avg.index[i])\n",
    "        \n",
    "income_list"
   ]
  },
  {
   "cell_type": "code",
   "execution_count": 69,
   "id": "0772a899",
   "metadata": {},
   "outputs": [
    {
     "data": {
      "text/html": [
       "<div>\n",
       "<style scoped>\n",
       "    .dataframe tbody tr th:only-of-type {\n",
       "        vertical-align: middle;\n",
       "    }\n",
       "\n",
       "    .dataframe tbody tr th {\n",
       "        vertical-align: top;\n",
       "    }\n",
       "\n",
       "    .dataframe thead th {\n",
       "        text-align: right;\n",
       "    }\n",
       "</style>\n",
       "<table border=\"1\" class=\"dataframe\">\n",
       "  <thead>\n",
       "    <tr style=\"text-align: right;\">\n",
       "      <th></th>\n",
       "      <th>High_income_credit_avg</th>\n",
       "      <th>Low_income_credit_avg</th>\n",
       "    </tr>\n",
       "    <tr>\n",
       "      <th>income_type</th>\n",
       "      <th></th>\n",
       "      <th></th>\n",
       "    </tr>\n",
       "  </thead>\n",
       "  <tbody>\n",
       "    <tr>\n",
       "      <th>Commercial associate</th>\n",
       "      <td>1.566866</td>\n",
       "      <td>1.531395</td>\n",
       "    </tr>\n",
       "    <tr>\n",
       "      <th>Pensioner</th>\n",
       "      <td>1.556680</td>\n",
       "      <td>1.555399</td>\n",
       "    </tr>\n",
       "    <tr>\n",
       "      <th>Working</th>\n",
       "      <td>1.550153</td>\n",
       "      <td>1.536193</td>\n",
       "    </tr>\n",
       "  </tbody>\n",
       "</table>\n",
       "</div>"
      ],
      "text/plain": [
       "                      High_income_credit_avg  Low_income_credit_avg\n",
       "income_type                                                        \n",
       "Commercial associate                1.566866               1.531395\n",
       "Pensioner                           1.556680               1.555399\n",
       "Working                             1.550153               1.536193"
      ]
     },
     "execution_count": 69,
     "metadata": {},
     "output_type": "execute_result"
    }
   ],
   "source": [
    "income_credit_avg = income_credit_avg.loc[income_list]\n",
    "\n",
    "income_credit_avg"
   ]
  },
  {
   "cell_type": "code",
   "execution_count": 70,
   "id": "d908eef6",
   "metadata": {},
   "outputs": [],
   "source": [
    "income_credit_avg.insert(2 , 'Difference between High & Low' , \n",
    "                         income_credit_avg['High_income_credit_avg'] - income_credit_avg['Low_income_credit_avg'])"
   ]
  },
  {
   "cell_type": "code",
   "execution_count": 71,
   "id": "b0f3ad3a",
   "metadata": {
    "scrolled": true
   },
   "outputs": [
    {
     "data": {
      "text/html": [
       "<div>\n",
       "<style scoped>\n",
       "    .dataframe tbody tr th:only-of-type {\n",
       "        vertical-align: middle;\n",
       "    }\n",
       "\n",
       "    .dataframe tbody tr th {\n",
       "        vertical-align: top;\n",
       "    }\n",
       "\n",
       "    .dataframe thead th {\n",
       "        text-align: right;\n",
       "    }\n",
       "</style>\n",
       "<table border=\"1\" class=\"dataframe\">\n",
       "  <thead>\n",
       "    <tr style=\"text-align: right;\">\n",
       "      <th></th>\n",
       "      <th>High_income_credit_avg</th>\n",
       "      <th>Low_income_credit_avg</th>\n",
       "      <th>Difference between High &amp; Low</th>\n",
       "    </tr>\n",
       "    <tr>\n",
       "      <th>income_type</th>\n",
       "      <th></th>\n",
       "      <th></th>\n",
       "      <th></th>\n",
       "    </tr>\n",
       "  </thead>\n",
       "  <tbody>\n",
       "    <tr>\n",
       "      <th>Commercial associate</th>\n",
       "      <td>1.566866</td>\n",
       "      <td>1.531395</td>\n",
       "      <td>0.035471</td>\n",
       "    </tr>\n",
       "    <tr>\n",
       "      <th>Working</th>\n",
       "      <td>1.550153</td>\n",
       "      <td>1.536193</td>\n",
       "      <td>0.013960</td>\n",
       "    </tr>\n",
       "    <tr>\n",
       "      <th>Pensioner</th>\n",
       "      <td>1.556680</td>\n",
       "      <td>1.555399</td>\n",
       "      <td>0.001281</td>\n",
       "    </tr>\n",
       "  </tbody>\n",
       "</table>\n",
       "</div>"
      ],
      "text/plain": [
       "                      High_income_credit_avg  Low_income_credit_avg  \\\n",
       "income_type                                                           \n",
       "Commercial associate                1.566866               1.531395   \n",
       "Working                             1.550153               1.536193   \n",
       "Pensioner                           1.556680               1.555399   \n",
       "\n",
       "                      Difference between High & Low  \n",
       "income_type                                          \n",
       "Commercial associate                       0.035471  \n",
       "Working                                    0.013960  \n",
       "Pensioner                                  0.001281  "
      ]
     },
     "execution_count": 71,
     "metadata": {},
     "output_type": "execute_result"
    }
   ],
   "source": [
    "income_credit_avg.sort_values('Difference between High & Low' , ascending = False)"
   ]
  },
  {
   "cell_type": "markdown",
   "id": "dd7fed24",
   "metadata": {},
   "source": [
    "#### (1) Commercial associate"
   ]
  },
  {
   "cell_type": "code",
   "execution_count": 72,
   "id": "f6f18220",
   "metadata": {
    "scrolled": false
   },
   "outputs": [
    {
     "name": "stdout",
     "output_type": "stream",
     "text": [
      "Commercial associate\n"
     ]
    },
    {
     "data": {
      "text/plain": [
       "Text(0.5, 1.0, 'Commercial associate')"
      ]
     },
     "execution_count": 72,
     "metadata": {},
     "output_type": "execute_result"
    },
    {
     "data": {
      "image/png": "[encoded data removed]",
      "text/plain": [
       "<Figure size 432x288 with 1 Axes>"
      ]
     },
     "metadata": {},
     "output_type": "display_data"
    }
   ],
   "source": [
    "ans =  income_list[0] \n",
    "        \n",
    "data = df[df['income_type'] == ans]\n",
    "\n",
    "print(ans)\n",
    "        \n",
    "data.groupby('income_percentile')['car'].mean().plot(kind = 'bar')\n",
    "plt.ylim(0, 0.8)\n",
    "plt.xlabel('income percentile')\n",
    "plt.ylabel('Probability of owning car')\n",
    "plt.title('Commercial associate')"
   ]
  },
  {
   "cell_type": "code",
   "execution_count": 73,
   "id": "d131ff5d",
   "metadata": {},
   "outputs": [
    {
     "name": "stdout",
     "output_type": "stream",
     "text": [
      "Commercial associate\n"
     ]
    },
    {
     "data": {
      "text/plain": [
       "Text(0.5, 1.0, 'Commercial associate')"
      ]
     },
     "execution_count": 73,
     "metadata": {},
     "output_type": "execute_result"
    },
    {
     "data": {
      "image/png": "[encoded data removed]",
      "text/plain": [
       "<Figure size 432x288 with 1 Axes>"
      ]
     },
     "metadata": {},
     "output_type": "display_data"
    }
   ],
   "source": [
    "ans =  income_list[0] \n",
    "        \n",
    "data = df[df['income_type'] == ans]\n",
    "\n",
    "print(ans)\n",
    "        \n",
    "data.groupby('income_percentile')['START_EMPLOYED'].mean().plot(kind = 'bar')\n",
    "plt.ylim(10000, 14000)\n",
    "plt.xlabel('income percentile')\n",
    "plt.ylabel('Start_Employed')\n",
    "plt.title('Commercial associate')"
   ]
  },
  {
   "cell_type": "code",
   "execution_count": 75,
   "id": "076cb6e4",
   "metadata": {
    "scrolled": true
   },
   "outputs": [
    {
     "name": "stdout",
     "output_type": "stream",
     "text": [
      "Commercial associate\n"
     ]
    },
    {
     "data": {
      "text/plain": [
       "Text(0.5, 1.0, 'income')"
      ]
     },
     "execution_count": 75,
     "metadata": {},
     "output_type": "execute_result"
    },
    {
     "data": {
      "image/png": "[encoded data removed]",
      "text/plain": [
       "<Figure size 432x288 with 1 Axes>"
      ]
     },
     "metadata": {},
     "output_type": "display_data"
    }
   ],
   "source": [
    "ans =  income_list[0] \n",
    "        \n",
    "data = df[df['income_type'] == ans]\n",
    "\n",
    "print(ans)\n",
    "        \n",
    "data.groupby('income_percentile')['Counts'].mean().plot(kind = 'bar')\n",
    "plt.ylim(1, 5)\n",
    "plt.xlabel('income percentile')\n",
    "plt.ylabel('# of Card issue')\n",
    "plt.title('income')"
   ]
  },
  {
   "cell_type": "code",
   "execution_count": 76,
   "id": "9fa59c72",
   "metadata": {
    "scrolled": true
   },
   "outputs": [
    {
     "name": "stdout",
     "output_type": "stream",
     "text": [
      "Commercial associate\n"
     ]
    },
    {
     "data": {
      "text/plain": [
       "Text(0.5, 1.0, 'Commercial associate')"
      ]
     },
     "execution_count": 76,
     "metadata": {},
     "output_type": "execute_result"
    },
    {
     "data": {
      "image/png": "[encoded data removed]",
      "text/plain": [
       "<Figure size 432x288 with 1 Axes>"
      ]
     },
     "metadata": {},
     "output_type": "display_data"
    }
   ],
   "source": [
    "ans =  income_list[0] \n",
    "        \n",
    "data = df[df['income_type'] == ans]\n",
    "\n",
    "print(ans)\n",
    "        \n",
    "data.groupby('income_percentile')['child_num'].mean().plot(kind = 'bar')\n",
    "plt.ylim(0, 1)\n",
    "plt.xlabel('income percentile')\n",
    "plt.ylabel('# of Child')\n",
    "plt.title('Commercial associate')"
   ]
  },
  {
   "cell_type": "markdown",
   "id": "0c9b7d6f",
   "metadata": {},
   "source": [
    "#### (2) Pensioner"
   ]
  },
  {
   "cell_type": "code",
   "execution_count": 78,
   "id": "ac838ff8",
   "metadata": {},
   "outputs": [
    {
     "name": "stdout",
     "output_type": "stream",
     "text": [
      "Pensioner\n"
     ]
    },
    {
     "data": {
      "text/plain": [
       "Text(0.5, 1.0, 'Pensioner')"
      ]
     },
     "execution_count": 78,
     "metadata": {},
     "output_type": "execute_result"
    },
    {
     "data": {
      "image/png": "[encoded data removed]",
      "text/plain": [
       "<Figure size 432x288 with 1 Axes>"
      ]
     },
     "metadata": {},
     "output_type": "display_data"
    }
   ],
   "source": [
    "ans =  income_list[1] \n",
    "        \n",
    "data = df[df['income_type'] == ans]\n",
    "\n",
    "print(ans)\n",
    "        \n",
    "data.groupby('income_percentile')['car'].mean().plot(kind = 'bar')\n",
    "plt.ylim(0, 0.8)\n",
    "plt.xlabel('income percentile')\n",
    "plt.ylabel('Probability of owning car')\n",
    "plt.title('Pensioner')"
   ]
  },
  {
   "cell_type": "code",
   "execution_count": 80,
   "id": "f64c4bc4",
   "metadata": {},
   "outputs": [
    {
     "name": "stdout",
     "output_type": "stream",
     "text": [
      "Pensioner\n"
     ]
    },
    {
     "data": {
      "text/plain": [
       "Text(0.5, 1.0, 'Pensioner')"
      ]
     },
     "execution_count": 80,
     "metadata": {},
     "output_type": "execute_result"
    },
    {
     "data": {
      "image/png": "[encoded data removed]",
      "text/plain": [
       "<Figure size 432x288 with 1 Axes>"
      ]
     },
     "metadata": {},
     "output_type": "display_data"
    }
   ],
   "source": [
    "ans =  income_list[1] \n",
    "        \n",
    "data = df[df['income_type'] == ans]\n",
    "\n",
    "print(ans)\n",
    "        \n",
    "data.groupby('income_percentile')['START_EMPLOYED'].mean().plot(kind = 'bar')\n",
    "plt.ylim(20000, 25000)\n",
    "plt.xlabel('income percentile')\n",
    "plt.ylabel('Start_Employed')\n",
    "plt.title('Pensioner')"
   ]
  },
  {
   "cell_type": "code",
   "execution_count": 81,
   "id": "d78c28a9",
   "metadata": {
    "scrolled": true
   },
   "outputs": [
    {
     "name": "stdout",
     "output_type": "stream",
     "text": [
      "Pensioner\n"
     ]
    },
    {
     "data": {
      "text/plain": [
       "Text(0.5, 1.0, 'Pensioner')"
      ]
     },
     "execution_count": 81,
     "metadata": {},
     "output_type": "execute_result"
    },
    {
     "data": {
      "image/png": "[encoded data removed]",
      "text/plain": [
       "<Figure size 432x288 with 1 Axes>"
      ]
     },
     "metadata": {},
     "output_type": "display_data"
    }
   ],
   "source": [
    "ans =  income_list[1] \n",
    "        \n",
    "data = df[df['income_type'] == ans]\n",
    "\n",
    "print(ans)\n",
    "        \n",
    "data.groupby('income_percentile')['Counts'].mean().plot(kind = 'bar')\n",
    "plt.ylim(1, 5)\n",
    "plt.xlabel('income percentile')\n",
    "plt.ylabel('# of Card issue')\n",
    "plt.title('Pensioner')"
   ]
  },
  {
   "cell_type": "code",
   "execution_count": 85,
   "id": "e404db62",
   "metadata": {
    "scrolled": true
   },
   "outputs": [
    {
     "name": "stdout",
     "output_type": "stream",
     "text": [
      "Pensioner\n"
     ]
    },
    {
     "data": {
      "text/plain": [
       "Text(0.5, 1.0, 'Pensioner')"
      ]
     },
     "execution_count": 85,
     "metadata": {},
     "output_type": "execute_result"
    },
    {
     "data": {
      "image/png": "[encoded data removed]",
      "text/plain": [
       "<Figure size 432x288 with 1 Axes>"
      ]
     },
     "metadata": {},
     "output_type": "display_data"
    }
   ],
   "source": [
    "ans =  income_list[1] \n",
    "        \n",
    "data = df[df['income_type'] == ans]\n",
    "\n",
    "print(ans)\n",
    "        \n",
    "data.groupby('income_percentile')['child_num'].mean().plot(kind = 'bar')\n",
    "plt.ylim(0, .2)\n",
    "plt.xlabel('income percentile')\n",
    "plt.ylabel('# of Child')\n",
    "plt.title('Pensioner')"
   ]
  },
  {
   "cell_type": "markdown",
   "id": "3cab94a1",
   "metadata": {},
   "source": [
    "#### (3) Working"
   ]
  },
  {
   "cell_type": "code",
   "execution_count": 87,
   "id": "1bd0cd26",
   "metadata": {},
   "outputs": [
    {
     "name": "stdout",
     "output_type": "stream",
     "text": [
      "Working\n"
     ]
    },
    {
     "data": {
      "text/plain": [
       "Text(0.5, 1.0, 'Working')"
      ]
     },
     "execution_count": 87,
     "metadata": {},
     "output_type": "execute_result"
    },
    {
     "data": {
      "image/png": "[encoded data removed]",
      "text/plain": [
       "<Figure size 432x288 with 1 Axes>"
      ]
     },
     "metadata": {},
     "output_type": "display_data"
    }
   ],
   "source": [
    "ans =  income_list[2]\n",
    "        \n",
    "data = df[df['income_type'] == ans]\n",
    "\n",
    "print(ans)\n",
    "        \n",
    "data.groupby('income_percentile')['car'].mean().plot(kind = 'bar')\n",
    "plt.ylim(0, 0.9)\n",
    "plt.xlabel('income percentile')\n",
    "plt.ylabel('Probability of owning car')\n",
    "plt.title('Working')"
   ]
  },
  {
   "cell_type": "code",
   "execution_count": 90,
   "id": "997c0381",
   "metadata": {},
   "outputs": [
    {
     "name": "stdout",
     "output_type": "stream",
     "text": [
      "Working\n"
     ]
    },
    {
     "data": {
      "text/plain": [
       "Text(0.5, 1.0, 'Working')"
      ]
     },
     "execution_count": 90,
     "metadata": {},
     "output_type": "execute_result"
    },
    {
     "data": {
      "image/png": "[encoded data removed]",
      "text/plain": [
       "<Figure size 432x288 with 1 Axes>"
      ]
     },
     "metadata": {},
     "output_type": "display_data"
    }
   ],
   "source": [
    "ans =  income_list[2] \n",
    "        \n",
    "data = df[df['income_type'] == ans]\n",
    "\n",
    "print(ans)\n",
    "        \n",
    "data.groupby('income_percentile')['START_EMPLOYED'].mean().plot(kind = 'bar')\n",
    "plt.ylim(10000, 16000)\n",
    "plt.xlabel('income percentile')\n",
    "plt.ylabel('Start_Employed')\n",
    "plt.title('Working')"
   ]
  },
  {
   "cell_type": "code",
   "execution_count": 91,
   "id": "88cc74fd",
   "metadata": {
    "scrolled": true
   },
   "outputs": [
    {
     "name": "stdout",
     "output_type": "stream",
     "text": [
      "Working\n"
     ]
    },
    {
     "data": {
      "text/plain": [
       "Text(0.5, 1.0, 'Working')"
      ]
     },
     "execution_count": 91,
     "metadata": {},
     "output_type": "execute_result"
    },
    {
     "data": {
      "image/png": "[encoded data removed]",
      "text/plain": [
       "<Figure size 432x288 with 1 Axes>"
      ]
     },
     "metadata": {},
     "output_type": "display_data"
    }
   ],
   "source": [
    "ans =  income_list[2] \n",
    "        \n",
    "data = df[df['income_type'] == ans]\n",
    "\n",
    "print(ans)\n",
    "        \n",
    "data.groupby('income_percentile')['Counts'].mean().plot(kind = 'bar')\n",
    "plt.ylim(1, 5)\n",
    "plt.xlabel('income percentile')\n",
    "plt.ylabel('# of Card issue')\n",
    "plt.title('Working')"
   ]
  },
  {
   "cell_type": "code",
   "execution_count": 92,
   "id": "8698cb0c",
   "metadata": {
    "scrolled": true
   },
   "outputs": [
    {
     "name": "stdout",
     "output_type": "stream",
     "text": [
      "Working\n"
     ]
    },
    {
     "data": {
      "text/plain": [
       "Text(0.5, 1.0, 'Working')"
      ]
     },
     "execution_count": 92,
     "metadata": {},
     "output_type": "execute_result"
    },
    {
     "data": {
      "image/png": "[encoded data removed]",
      "text/plain": [
       "<Figure size 432x288 with 1 Axes>"
      ]
     },
     "metadata": {},
     "output_type": "display_data"
    }
   ],
   "source": [
    "ans =  income_list[2] \n",
    "        \n",
    "data = df[df['income_type'] == ans]\n",
    "\n",
    "print(ans)\n",
    "        \n",
    "data.groupby('income_percentile')['child_num'].mean().plot(kind = 'bar')\n",
    "plt.ylim(0, 1)\n",
    "plt.xlabel('income percentile')\n",
    "plt.ylabel('# of Child')\n",
    "plt.title('Working')"
   ]
  }
 ],
 "metadata": {
  "kernelspec": {
   "display_name": "Python 3 (ipykernel)",
   "language": "python",
   "name": "python3"
  },
  "language_info": {
   "codemirror_mode": {
    "name": "ipython",
    "version": 3
   },
   "file_extension": ".py",
   "mimetype": "text/x-python",
   "name": "python",
   "nbconvert_exporter": "python",
   "pygments_lexer": "ipython3",
   "version": "3.9.12"
  }
 },
 "nbformat": 4,
 "nbformat_minor": 5
}
