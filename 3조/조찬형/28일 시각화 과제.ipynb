{
 "cells": [
  {
   "cell_type": "markdown",
   "id": "803526e0",
   "metadata": {},
   "source": [
    "[조찬형] [오후 12:26] 시각화 툴은 seaborn\n",
    "\n",
    "신용카드연체데이터 -> 신용등급이랑 동의어 (신용등급으로 용어통일 낮을 수록 좋은거)\n",
    "\n",
    " intro\n",
    "\n",
    "사람이 중복되는 경우가 있어서 (신용카드발급횟수만 다름)\n",
    "-> 해당부부의 중복을 제외하고 신용등급은 평균을 내어서 활용\n",
    "\n",
    "1.  소득분위와 신용등급 barplot\n",
    "-> 단순 비교 불가능\n",
    "\n",
    "\n",
    "2. 주택 소유 여부 \n",
    "-> 제일 큰 사적재산 단위 주택소유여부와 소득분위간에는 상관 없음 (barplot)\n",
    "-> 주택은 필수재이기 때문에 일것  \n",
    "\n",
    "3. 자동차 \n",
    "필수재 성격이 있는 자동차와 소득분위간 상관 관계 (barplot)\n",
    "-> 소득분위가 낮을수록 자동차보유비율이 낮아짐\n",
    "-> 소득이 낮아지면 신용수요 같이 줄어드는 것이 아닐까?\n",
    " \n",
    "소득 + 추가적인 요인 (소비의 정도)이 있을 것이다 추론\n",
    "\n",
    "\n",
    "어떤 변수? (자동차, 신용카드 발급횟수)"
   ]
  },
  {
   "cell_type": "code",
   "execution_count": 2,
   "id": "db309444",
   "metadata": {},
   "outputs": [],
   "source": [
    "import numpy as np\n",
    "import pandas as pd\n",
    "import matplotlib as mpl\n",
    "import matplotlib.pyplot as plt\n",
    "import seaborn as sns"
   ]
  },
  {
   "cell_type": "markdown",
   "id": "7914a10f",
   "metadata": {},
   "source": [
    "소득분위와 신용등급 barplot"
   ]
  },
  {
   "cell_type": "code",
   "execution_count": 7,
   "id": "74c2f519",
   "metadata": {},
   "outputs": [
    {
     "data": {
      "text/plain": [
       "<AxesSubplot:xlabel='income_percentile', ylabel='credit_avg'>"
      ]
     },
     "execution_count": 7,
     "metadata": {},
     "output_type": "execute_result"
    },
    {
     "data": {
      "image/png": "[encoded data removed]",
      "text/plain": [
       "<Figure size 432x288 with 1 Axes>"
      ]
     },
     "metadata": {
      "needs_background": "light"
     },
     "output_type": "display_data"
    }
   ],
   "source": [
    "credit = pd.read_csv('credit_train_ver_3.csv')\n",
    "credit['probability']\n",
    "sns.barplot(data = credit , x = 'income_percentile', y = 'credit_avg' , \n",
    "            ci = False)"
   ]
  },
  {
   "cell_type": "markdown",
   "id": "998a082f",
   "metadata": {},
   "source": [
    "상관 관계 딱히 안보이는 그래프 - clear\n",
    "\n"
   ]
  },
  {
   "cell_type": "code",
   "execution_count": 36,
   "id": "e0c01ea2",
   "metadata": {},
   "outputs": [
    {
     "data": {
      "image/png": "[encoded data removed]",
      "text/plain": [
       "<Figure size 432x288 with 1 Axes>"
      ]
     },
     "metadata": {
      "needs_background": "light"
     },
     "output_type": "display_data"
    }
   ],
   "source": [
    "sns.histplot(data = credit, hue = 'reality', x = 'income_percentile', \n",
    "            color = 'red', discrete = True)\n",
    "plt.show()"
   ]
  },
  {
   "cell_type": "code",
   "execution_count": null,
   "id": "95e5b806",
   "metadata": {},
   "outputs": [],
   "source": [
    "주택 소유 여부(CLEAR)\n",
    "-> 제일 큰 사적재산 단위 주택소유여부와 소득분위간에는 상관 없음 (barplot)\n",
    "-> 주택은 필수재이기 때문에 일것"
   ]
  },
  {
   "cell_type": "code",
   "execution_count": 35,
   "id": "a1124f03",
   "metadata": {
    "scrolled": true
   },
   "outputs": [
    {
     "data": {
      "text/plain": [
       "<AxesSubplot:xlabel='income_percentile', ylabel='car'>"
      ]
     },
     "execution_count": 35,
     "metadata": {},
     "output_type": "execute_result"
    },
    {
     "data": {
      "image/png": "[encoded data removed]",
      "text/plain": [
       "<Figure size 432x288 with 1 Axes>"
      ]
     },
     "metadata": {
      "needs_background": "light"
     },
     "output_type": "display_data"
    }
   ],
   "source": [
    "sns.barplot(data = credit.sort_values('income_percentile') ,y='car' , x = 'income_percentile' , \n",
    "            ci = False)"
   ]
  },
  {
   "cell_type": "markdown",
   "id": "a78d531b",
   "metadata": {},
   "source": [
    "자동차 필수재 성격이 있는 자동차와 소득분위간 상관 관계 (barplot)m\n",
    "-> 소득분위가 낮을수록 자동차보유비율이 낮아짐 -> \n",
    "소득이 낮아지면 신용수요 같이 줄어드는 것이 아닐까?"
   ]
  },
  {
   "cell_type": "code",
   "execution_count": null,
   "id": "16ef845e",
   "metadata": {},
   "outputs": [],
   "source": []
  }
 ],
 "metadata": {
  "kernelspec": {
   "display_name": "Python 3 (ipykernel)",
   "language": "python",
   "name": "python3"
  },
  "language_info": {
   "codemirror_mode": {
    "name": "ipython",
    "version": 3
   },
   "file_extension": ".py",
   "mimetype": "text/x-python",
   "name": "python",
   "nbconvert_exporter": "python",
   "pygments_lexer": "ipython3",
   "version": "3.9.12"
  }
 },
 "nbformat": 4,
 "nbformat_minor": 5
}
